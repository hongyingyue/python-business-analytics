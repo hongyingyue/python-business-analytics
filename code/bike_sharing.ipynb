{
 "cells": [
  {
   "cell_type": "markdown",
   "id": "4346fa03-e99d-45e3-bf92-c624125a4931",
   "metadata": {
    "jp-MarkdownHeadingCollapsed": true,
    "tags": []
   },
   "source": [
    "## Setup"
   ]
  },
  {
   "cell_type": "code",
   "execution_count": 1,
   "id": "d052f917",
   "metadata": {
    "jupyter": {
     "source_hidden": true
    }
   },
   "outputs": [],
   "source": [
    "import numpy as np\n",
    "import pandas as pd\n",
    "import random\n",
    "\n",
    "import seaborn as sns\n",
    "import matplotlib.pyplot as plt\n",
    "from prettytable import PrettyTable\n",
    "%matplotlib inline\n",
    "\n",
    "# Sklearn metrics\n",
    "from sklearn.metrics import mean_squared_error, mean_absolute_error, mean_squared_log_error\n",
    "# Sklearn models\n",
    "from sklearn.linear_model import Lasso, ElasticNet, Ridge, SGDRegressor\n",
    "from sklearn.svm import SVR, NuSVR\n",
    "from sklearn.ensemble import BaggingRegressor, RandomForestRegressor\n",
    "from sklearn.neighbors import KNeighborsClassifier\n",
    "from sklearn.cluster import KMeans\n",
    "from sklearn.ensemble import RandomForestClassifier\n",
    "from sklearn.ensemble import GradientBoostingClassifier\n",
    "from sklearn.linear_model import LinearRegression\n",
    "# Sklearn model delection\n",
    "from sklearn.model_selection import RandomizedSearchCV\n",
    "\n",
    "# Make results reproducible\n",
    "random.seed(315)\n",
    "\n",
    "import warnings\n",
    "warnings.filterwarnings(\"ignore\")"
   ]
  },
  {
   "cell_type": "markdown",
   "id": "c65e8e21",
   "metadata": {
    "tags": []
   },
   "source": [
    "## Import data"
   ]
  },
  {
   "cell_type": "markdown",
   "id": "bbee2a3a",
   "metadata": {},
   "source": [
    "- instant: record index\n",
    "- dteday : date\n",
    "- season : season (1:springer, 2:summer, 3:fall, 4:winter)\n",
    "- yr : year (0: 2011, 1:2012)\n",
    "- mnth : month ( 1 to 12)\n",
    "- hr : hour (0 to 23)\n",
    "- holiday : weather day is holiday or not\n",
    "- weekday : day of the week\n",
    "- workingday : if day is neither weekend nor holiday is 1, otherwise is 0.\n",
    "- weathersit :\n",
    "        1: Clear, Few clouds, Partly cloudy, Partly cloudy\n",
    "        2: Mist + Cloudy, Mist + Broken clouds, Mist + Few clouds, Mist\n",
    "        3: Light Snow, Light Rain + Thunderstorm + Scattered clouds, Light Rain + Scattered clouds\n",
    "        4: Heavy Rain + Ice Pallets + Thunderstorm + Mist, Snow + Fog\n",
    "- temp: Normalized temperature in Celsius. The values are derived via (t-t_min)/(t_max-t_min), t_min=-8, t_max=+39 (only in hourly scale)\n",
    "- atemp: Normalized feeling temperature in Celsius. The values are derived via (t-t_min)/(t_max-t_min), t_min=-16, t_max=+50 (only in hourly scale)\n",
    "- hum: Normalized humidity. The values are divided to 100 (max)\n",
    "- windspeed: Normalized wind speed. The values are divided to 67 (max)\n",
    "- casual: count of casual users\n",
    "- registered: count of registered users\n",
    "- cnt: count of total rental bikes including both casual and registered"
   ]
  },
  {
   "cell_type": "code",
   "execution_count": 14,
   "id": "03d70207-6445-43e9-a6d5-4dfe9b71b768",
   "metadata": {
    "jupyter": {
     "source_hidden": true
    }
   },
   "outputs": [],
   "source": [
    "class Dataloader(): \n",
    "    '''Bike Sharing Dataset dataloader.    \n",
    "    '''\n",
    "\n",
    "    def __init__(self, csv_path):\n",
    "        ''' Initialize Bike Sharing Dataset dataloader.\n",
    "        \n",
    "        Arguments:\n",
    "            csv_path {str} -- Path to the Bike Sharing Dataset CSV file.\n",
    "        '''\n",
    "\n",
    "        self.csv_path = csv_path\n",
    "        self.data = pd.read_csv(self.csv_path)\n",
    "\n",
    "        # Shuffle\n",
    "        self.data.sample(frac=1.0, replace=True, random_state=1)\n",
    "\n",
    "    def getHeader(self):\n",
    "        ''' Get the column names of the Bike Sharing CSV file.\n",
    "        \n",
    "        Returns:\n",
    "            [list of str] -- the column names of the csv file\n",
    "        '''\n",
    "\n",
    "        return list(self.data.columns.values)\n",
    "\n",
    "    def getData(self):\n",
    "        ''' Get the pandas frames for the training, validation and test split\n",
    "        \n",
    "        Returns:\n",
    "            [pandas frames] -- the pandas frames for the different splits\n",
    "        '''\n",
    "\n",
    "        # Split data into train, validation and test set with 60:20:20 ratio\n",
    "        split_train = int(60 / 100 * len(self.data)) \n",
    "        split_val = int(80 / 100 * len(self.data)) \n",
    "        train = self.data[:split_train]\n",
    "        val = self.data[split_train:split_val]\n",
    "        test = self.data[split_val:]\n",
    "        return train, val,  test\n",
    "\n",
    "    def getFullData(self):\n",
    "        ''' Get all the data in one single pandas frame.\n",
    "        \n",
    "        Returns:\n",
    "            [pandas frame] -- the complete Bike Sharing Dataset data\n",
    "        '''\n",
    "\n",
    "        return self.data"
   ]
  },
  {
   "cell_type": "code",
   "execution_count": 15,
   "id": "a0f141f8-d7d7-4893-a197-91c183cfe3fa",
   "metadata": {
    "jupyter": {
     "source_hidden": true
    }
   },
   "outputs": [],
   "source": [
    "dataloader = Dataloader('/Users/hongyingyue/Git/python-business-analytics/data/bike/hour.csv')\n",
    "train, val, test = dataloader.getData()\n",
    "fullData = dataloader.getFullData()\n",
    "\n",
    "category_features = ['season', 'holiday', 'mnth', 'hr', 'weekday', 'workingday', 'weathersit']\n",
    "number_features = ['temp', 'atemp', 'hum', 'windspeed']\n",
    "\n",
    "features= category_features + number_features\n",
    "target = ['cnt']"
   ]
  },
  {
   "cell_type": "code",
   "execution_count": 16,
   "id": "a3074192",
   "metadata": {
    "jupyter": {
     "source_hidden": true
    }
   },
   "outputs": [
    {
     "data": {
      "text/html": [
       "<div>\n",
       "<style scoped>\n",
       "    .dataframe tbody tr th:only-of-type {\n",
       "        vertical-align: middle;\n",
       "    }\n",
       "\n",
       "    .dataframe tbody tr th {\n",
       "        vertical-align: top;\n",
       "    }\n",
       "\n",
       "    .dataframe thead th {\n",
       "        text-align: right;\n",
       "    }\n",
       "</style>\n",
       "<table border=\"1\" class=\"dataframe\">\n",
       "  <thead>\n",
       "    <tr style=\"text-align: right;\">\n",
       "      <th></th>\n",
       "      <th>instant</th>\n",
       "      <th>dteday</th>\n",
       "      <th>season</th>\n",
       "      <th>yr</th>\n",
       "      <th>mnth</th>\n",
       "      <th>hr</th>\n",
       "      <th>holiday</th>\n",
       "      <th>weekday</th>\n",
       "      <th>workingday</th>\n",
       "      <th>weathersit</th>\n",
       "      <th>temp</th>\n",
       "      <th>atemp</th>\n",
       "      <th>hum</th>\n",
       "      <th>windspeed</th>\n",
       "      <th>casual</th>\n",
       "      <th>registered</th>\n",
       "      <th>cnt</th>\n",
       "    </tr>\n",
       "  </thead>\n",
       "  <tbody>\n",
       "    <tr>\n",
       "      <th>0</th>\n",
       "      <td>1</td>\n",
       "      <td>2011-01-01</td>\n",
       "      <td>1</td>\n",
       "      <td>0</td>\n",
       "      <td>1</td>\n",
       "      <td>0</td>\n",
       "      <td>0</td>\n",
       "      <td>6</td>\n",
       "      <td>0</td>\n",
       "      <td>1</td>\n",
       "      <td>0.24</td>\n",
       "      <td>0.2879</td>\n",
       "      <td>0.81</td>\n",
       "      <td>0.0</td>\n",
       "      <td>3</td>\n",
       "      <td>13</td>\n",
       "      <td>16</td>\n",
       "    </tr>\n",
       "    <tr>\n",
       "      <th>1</th>\n",
       "      <td>2</td>\n",
       "      <td>2011-01-01</td>\n",
       "      <td>1</td>\n",
       "      <td>0</td>\n",
       "      <td>1</td>\n",
       "      <td>1</td>\n",
       "      <td>0</td>\n",
       "      <td>6</td>\n",
       "      <td>0</td>\n",
       "      <td>1</td>\n",
       "      <td>0.22</td>\n",
       "      <td>0.2727</td>\n",
       "      <td>0.80</td>\n",
       "      <td>0.0</td>\n",
       "      <td>8</td>\n",
       "      <td>32</td>\n",
       "      <td>40</td>\n",
       "    </tr>\n",
       "    <tr>\n",
       "      <th>2</th>\n",
       "      <td>3</td>\n",
       "      <td>2011-01-01</td>\n",
       "      <td>1</td>\n",
       "      <td>0</td>\n",
       "      <td>1</td>\n",
       "      <td>2</td>\n",
       "      <td>0</td>\n",
       "      <td>6</td>\n",
       "      <td>0</td>\n",
       "      <td>1</td>\n",
       "      <td>0.22</td>\n",
       "      <td>0.2727</td>\n",
       "      <td>0.80</td>\n",
       "      <td>0.0</td>\n",
       "      <td>5</td>\n",
       "      <td>27</td>\n",
       "      <td>32</td>\n",
       "    </tr>\n",
       "    <tr>\n",
       "      <th>3</th>\n",
       "      <td>4</td>\n",
       "      <td>2011-01-01</td>\n",
       "      <td>1</td>\n",
       "      <td>0</td>\n",
       "      <td>1</td>\n",
       "      <td>3</td>\n",
       "      <td>0</td>\n",
       "      <td>6</td>\n",
       "      <td>0</td>\n",
       "      <td>1</td>\n",
       "      <td>0.24</td>\n",
       "      <td>0.2879</td>\n",
       "      <td>0.75</td>\n",
       "      <td>0.0</td>\n",
       "      <td>3</td>\n",
       "      <td>10</td>\n",
       "      <td>13</td>\n",
       "    </tr>\n",
       "    <tr>\n",
       "      <th>4</th>\n",
       "      <td>5</td>\n",
       "      <td>2011-01-01</td>\n",
       "      <td>1</td>\n",
       "      <td>0</td>\n",
       "      <td>1</td>\n",
       "      <td>4</td>\n",
       "      <td>0</td>\n",
       "      <td>6</td>\n",
       "      <td>0</td>\n",
       "      <td>1</td>\n",
       "      <td>0.24</td>\n",
       "      <td>0.2879</td>\n",
       "      <td>0.75</td>\n",
       "      <td>0.0</td>\n",
       "      <td>0</td>\n",
       "      <td>1</td>\n",
       "      <td>1</td>\n",
       "    </tr>\n",
       "  </tbody>\n",
       "</table>\n",
       "</div>"
      ],
      "text/plain": [
       "   instant      dteday season  yr mnth hr holiday weekday workingday  \\\n",
       "0        1  2011-01-01      1   0    1  0       0       6          0   \n",
       "1        2  2011-01-01      1   0    1  1       0       6          0   \n",
       "2        3  2011-01-01      1   0    1  2       0       6          0   \n",
       "3        4  2011-01-01      1   0    1  3       0       6          0   \n",
       "4        5  2011-01-01      1   0    1  4       0       6          0   \n",
       "\n",
       "  weathersit  temp   atemp   hum  windspeed  casual  registered  cnt  \n",
       "0          1  0.24  0.2879  0.81        0.0       3          13   16  \n",
       "1          1  0.22  0.2727  0.80        0.0       8          32   40  \n",
       "2          1  0.22  0.2727  0.80        0.0       5          27   32  \n",
       "3          1  0.24  0.2879  0.75        0.0       3          10   13  \n",
       "4          1  0.24  0.2879  0.75        0.0       0           1    1  "
      ]
     },
     "execution_count": 16,
     "metadata": {},
     "output_type": "execute_result"
    }
   ],
   "source": [
    "fulldata.head()"
   ]
  },
  {
   "cell_type": "markdown",
   "id": "d74ffac7",
   "metadata": {
    "jp-MarkdownHeadingCollapsed": true,
    "tags": []
   },
   "source": [
    "## Descriptive Analysis"
   ]
  },
  {
   "cell_type": "code",
   "execution_count": 4,
   "id": "ee7ff515",
   "metadata": {
    "jupyter": {
     "source_hidden": true
    }
   },
   "outputs": [
    {
     "data": {
      "text/plain": [
       "(17379, 17)"
      ]
     },
     "execution_count": 4,
     "metadata": {},
     "output_type": "execute_result"
    }
   ],
   "source": [
    "fulldata.shape"
   ]
  },
  {
   "cell_type": "code",
   "execution_count": 5,
   "id": "b4a46d5c",
   "metadata": {
    "jupyter": {
     "source_hidden": true
    }
   },
   "outputs": [],
   "source": [
    "category_features = ['season', 'holiday', 'mnth', 'hr', 'weekday', 'workingday', 'weathersit']\n",
    "number_features = ['temp', 'atemp', 'hum', 'windspeed']"
   ]
  },
  {
   "cell_type": "code",
   "execution_count": 6,
   "id": "0f64a0a4",
   "metadata": {
    "jupyter": {
     "source_hidden": true
    }
   },
   "outputs": [
    {
     "data": {
      "text/html": [
       "<div>\n",
       "<style scoped>\n",
       "    .dataframe tbody tr th:only-of-type {\n",
       "        vertical-align: middle;\n",
       "    }\n",
       "\n",
       "    .dataframe tbody tr th {\n",
       "        vertical-align: top;\n",
       "    }\n",
       "\n",
       "    .dataframe thead th {\n",
       "        text-align: right;\n",
       "    }\n",
       "</style>\n",
       "<table border=\"1\" class=\"dataframe\">\n",
       "  <thead>\n",
       "    <tr style=\"text-align: right;\">\n",
       "      <th></th>\n",
       "      <th>temp</th>\n",
       "      <th>atemp</th>\n",
       "      <th>hum</th>\n",
       "      <th>windspeed</th>\n",
       "    </tr>\n",
       "  </thead>\n",
       "  <tbody>\n",
       "    <tr>\n",
       "      <th>count</th>\n",
       "      <td>17379.000000</td>\n",
       "      <td>17379.000000</td>\n",
       "      <td>17379.000000</td>\n",
       "      <td>17379.000000</td>\n",
       "    </tr>\n",
       "    <tr>\n",
       "      <th>mean</th>\n",
       "      <td>0.496987</td>\n",
       "      <td>0.475775</td>\n",
       "      <td>0.627229</td>\n",
       "      <td>0.190098</td>\n",
       "    </tr>\n",
       "    <tr>\n",
       "      <th>std</th>\n",
       "      <td>0.192556</td>\n",
       "      <td>0.171850</td>\n",
       "      <td>0.192930</td>\n",
       "      <td>0.122340</td>\n",
       "    </tr>\n",
       "    <tr>\n",
       "      <th>min</th>\n",
       "      <td>0.020000</td>\n",
       "      <td>0.000000</td>\n",
       "      <td>0.000000</td>\n",
       "      <td>0.000000</td>\n",
       "    </tr>\n",
       "    <tr>\n",
       "      <th>25%</th>\n",
       "      <td>0.340000</td>\n",
       "      <td>0.333300</td>\n",
       "      <td>0.480000</td>\n",
       "      <td>0.104500</td>\n",
       "    </tr>\n",
       "    <tr>\n",
       "      <th>50%</th>\n",
       "      <td>0.500000</td>\n",
       "      <td>0.484800</td>\n",
       "      <td>0.630000</td>\n",
       "      <td>0.194000</td>\n",
       "    </tr>\n",
       "    <tr>\n",
       "      <th>75%</th>\n",
       "      <td>0.660000</td>\n",
       "      <td>0.621200</td>\n",
       "      <td>0.780000</td>\n",
       "      <td>0.253700</td>\n",
       "    </tr>\n",
       "    <tr>\n",
       "      <th>max</th>\n",
       "      <td>1.000000</td>\n",
       "      <td>1.000000</td>\n",
       "      <td>1.000000</td>\n",
       "      <td>0.850700</td>\n",
       "    </tr>\n",
       "  </tbody>\n",
       "</table>\n",
       "</div>"
      ],
      "text/plain": [
       "               temp         atemp           hum     windspeed\n",
       "count  17379.000000  17379.000000  17379.000000  17379.000000\n",
       "mean       0.496987      0.475775      0.627229      0.190098\n",
       "std        0.192556      0.171850      0.192930      0.122340\n",
       "min        0.020000      0.000000      0.000000      0.000000\n",
       "25%        0.340000      0.333300      0.480000      0.104500\n",
       "50%        0.500000      0.484800      0.630000      0.194000\n",
       "75%        0.660000      0.621200      0.780000      0.253700\n",
       "max        1.000000      1.000000      1.000000      0.850700"
      ]
     },
     "execution_count": 6,
     "metadata": {},
     "output_type": "execute_result"
    }
   ],
   "source": [
    "fulldata[number_features].describe()"
   ]
  },
  {
   "cell_type": "code",
   "execution_count": 7,
   "id": "44d33988",
   "metadata": {
    "jupyter": {
     "source_hidden": true
    }
   },
   "outputs": [],
   "source": [
    "fulldata[category_features] = fulldata[category_features].astype('category')"
   ]
  },
  {
   "cell_type": "code",
   "execution_count": 8,
   "id": "07dd8371",
   "metadata": {
    "jupyter": {
     "source_hidden": true
    }
   },
   "outputs": [
    {
     "data": {
      "text/html": [
       "<div>\n",
       "<style scoped>\n",
       "    .dataframe tbody tr th:only-of-type {\n",
       "        vertical-align: middle;\n",
       "    }\n",
       "\n",
       "    .dataframe tbody tr th {\n",
       "        vertical-align: top;\n",
       "    }\n",
       "\n",
       "    .dataframe thead th {\n",
       "        text-align: right;\n",
       "    }\n",
       "</style>\n",
       "<table border=\"1\" class=\"dataframe\">\n",
       "  <thead>\n",
       "    <tr style=\"text-align: right;\">\n",
       "      <th></th>\n",
       "      <th>season</th>\n",
       "      <th>holiday</th>\n",
       "      <th>mnth</th>\n",
       "      <th>hr</th>\n",
       "      <th>weekday</th>\n",
       "      <th>workingday</th>\n",
       "      <th>weathersit</th>\n",
       "    </tr>\n",
       "  </thead>\n",
       "  <tbody>\n",
       "    <tr>\n",
       "      <th>count</th>\n",
       "      <td>17379</td>\n",
       "      <td>17379</td>\n",
       "      <td>17379</td>\n",
       "      <td>17379</td>\n",
       "      <td>17379</td>\n",
       "      <td>17379</td>\n",
       "      <td>17379</td>\n",
       "    </tr>\n",
       "    <tr>\n",
       "      <th>unique</th>\n",
       "      <td>4</td>\n",
       "      <td>2</td>\n",
       "      <td>12</td>\n",
       "      <td>24</td>\n",
       "      <td>7</td>\n",
       "      <td>2</td>\n",
       "      <td>4</td>\n",
       "    </tr>\n",
       "    <tr>\n",
       "      <th>top</th>\n",
       "      <td>3</td>\n",
       "      <td>0</td>\n",
       "      <td>5</td>\n",
       "      <td>17</td>\n",
       "      <td>6</td>\n",
       "      <td>1</td>\n",
       "      <td>1</td>\n",
       "    </tr>\n",
       "    <tr>\n",
       "      <th>freq</th>\n",
       "      <td>4496</td>\n",
       "      <td>16879</td>\n",
       "      <td>1488</td>\n",
       "      <td>730</td>\n",
       "      <td>2512</td>\n",
       "      <td>11865</td>\n",
       "      <td>11413</td>\n",
       "    </tr>\n",
       "  </tbody>\n",
       "</table>\n",
       "</div>"
      ],
      "text/plain": [
       "        season  holiday   mnth     hr  weekday  workingday  weathersit\n",
       "count    17379    17379  17379  17379    17379       17379       17379\n",
       "unique       4        2     12     24        7           2           4\n",
       "top          3        0      5     17        6           1           1\n",
       "freq      4496    16879   1488    730     2512       11865       11413"
      ]
     },
     "execution_count": 8,
     "metadata": {},
     "output_type": "execute_result"
    }
   ],
   "source": [
    "fulldata[category_features].describe()"
   ]
  },
  {
   "cell_type": "code",
   "execution_count": 9,
   "id": "1a30adbf",
   "metadata": {
    "jupyter": {
     "source_hidden": true
    }
   },
   "outputs": [
    {
     "name": "stdout",
     "output_type": "stream",
     "text": [
      "<class 'pandas.core.frame.DataFrame'>\n",
      "RangeIndex: 17379 entries, 0 to 17378\n",
      "Data columns (total 17 columns):\n",
      " #   Column      Non-Null Count  Dtype   \n",
      "---  ------      --------------  -----   \n",
      " 0   instant     17379 non-null  int64   \n",
      " 1   dteday      17379 non-null  object  \n",
      " 2   season      17379 non-null  category\n",
      " 3   yr          17379 non-null  int64   \n",
      " 4   mnth        17379 non-null  category\n",
      " 5   hr          17379 non-null  category\n",
      " 6   holiday     17379 non-null  category\n",
      " 7   weekday     17379 non-null  category\n",
      " 8   workingday  17379 non-null  category\n",
      " 9   weathersit  17379 non-null  category\n",
      " 10  temp        17379 non-null  float64 \n",
      " 11  atemp       17379 non-null  float64 \n",
      " 12  hum         17379 non-null  float64 \n",
      " 13  windspeed   17379 non-null  float64 \n",
      " 14  casual      17379 non-null  int64   \n",
      " 15  registered  17379 non-null  int64   \n",
      " 16  cnt         17379 non-null  int64   \n",
      "dtypes: category(7), float64(4), int64(5), object(1)\n",
      "memory usage: 1.4+ MB\n"
     ]
    }
   ],
   "source": [
    "fulldata.info()"
   ]
  },
  {
   "cell_type": "markdown",
   "id": "ef1257eb",
   "metadata": {
    "jp-MarkdownHeadingCollapsed": true,
    "tags": []
   },
   "source": [
    "## Missing Value Analysis"
   ]
  },
  {
   "cell_type": "code",
   "execution_count": 10,
   "id": "a724872e",
   "metadata": {
    "jupyter": {
     "source_hidden": true
    }
   },
   "outputs": [
    {
     "data": {
      "text/plain": [
       "instant       False\n",
       "dteday        False\n",
       "season        False\n",
       "yr            False\n",
       "mnth          False\n",
       "hr            False\n",
       "holiday       False\n",
       "weekday       False\n",
       "workingday    False\n",
       "weathersit    False\n",
       "temp          False\n",
       "atemp         False\n",
       "hum           False\n",
       "windspeed     False\n",
       "casual        False\n",
       "registered    False\n",
       "cnt           False\n",
       "dtype: bool"
      ]
     },
     "execution_count": 10,
     "metadata": {},
     "output_type": "execute_result"
    }
   ],
   "source": [
    "fulldata.isnull().any()"
   ]
  },
  {
   "cell_type": "markdown",
   "id": "9157ee6a-dd9f-46af-97a3-d3abab513616",
   "metadata": {
    "tags": []
   },
   "source": [
    "## Outlier Analysis"
   ]
  },
  {
   "cell_type": "markdown",
   "id": "b7904f49-2275-4125-97dc-5f3c2e3baa6c",
   "metadata": {},
   "source": [
    "### Box plots"
   ]
  },
  {
   "cell_type": "code",
   "execution_count": 17,
   "id": "4561b673-00c9-43fe-b4f9-c14a2c515abf",
   "metadata": {
    "jupyter": {
     "source_hidden": true
    },
    "tags": []
   },
   "outputs": [
    {
     "data": {
      "text/plain": [
       "[Text(0.5, 0, 'Temperature'),\n",
       " Text(0, 0.5, 'Count'),\n",
       " Text(0.5, 1.0, 'Box Plot On Count Across Temperature')]"
      ]
     },
     "execution_count": 17,
     "metadata": {},
     "output_type": "execute_result"
    },
    {
     "data": {
      "image/png": "[encoded data removed]",
      "text/plain": [
       "<Figure size 1440x1080 with 6 Axes>"
      ]
     },
     "metadata": {},
     "output_type": "display_data"
    }
   ],
   "source": [
    "sns.set(font_scale=1.0)\n",
    "fig, axes = plt.subplots(nrows=3,ncols=2)\n",
    "fig.set_size_inches(20, 15)\n",
    "\n",
    "sns.boxplot(data=train,y=\"cnt\",orient=\"v\",ax=axes[0][0])\n",
    "sns.boxplot(data=train,y=\"cnt\",x=\"mnth\",orient=\"v\",ax=axes[0][1])\n",
    "sns.boxplot(data=train,y=\"cnt\",x=\"weathersit\",orient=\"v\",ax=axes[1][0])\n",
    "sns.boxplot(data=train,y=\"cnt\",x=\"workingday\",orient=\"v\",ax=axes[1][1])\n",
    "sns.boxplot(data=train,y=\"cnt\",x=\"hr\",orient=\"v\",ax=axes[2][0])\n",
    "sns.boxplot(data=train,y=\"cnt\",x=\"temp\",orient=\"v\",ax=axes[2][1])\n",
    "\n",
    "axes[0][0].set(ylabel='Count',title=\"Box Plot On Count\")\n",
    "axes[0][1].set(xlabel='Month', ylabel='Count',title=\"Box Plot On Count Across Months\")\n",
    "axes[1][0].set(xlabel='Weather Situation', ylabel='Count',title=\"Box Plot On Count Across Weather Situations\")\n",
    "axes[1][1].set(xlabel='Working Day', ylabel='Count',title=\"Box Plot On Count Across Working Day\")\n",
    "axes[2][0].set(xlabel='Hour Of The Day', ylabel='Count',title=\"Box Plot On Count Across Hour Of The Day\")\n",
    "axes[2][1].set(xlabel='Temperature', ylabel='Count',title=\"Box Plot On Count Across Temperature\")"
   ]
  },
  {
   "cell_type": "markdown",
   "id": "f42e3eae-7618-430c-9ce8-cf2424df2332",
   "metadata": {},
   "source": [
    "__Interpretation__: The working day and holiday box plots indicate that more bicycles are rent during normal working days than on weekends or holidays. The hourly box plots show a local maximum at 8 am and one at 5 pm which indicates that most users of the bicycle rental service use the bikes to get to work or school. Another important factor seems to be the temperature: higher temperatures lead to an increasing number of bike rents and lower temperatures not only decrease the average number of rents but also shows more outliers in the data."
   ]
  },
  {
   "cell_type": "markdown",
   "id": "dcf23214-02ab-43d9-83ae-e8a88e2f8121",
   "metadata": {},
   "source": [
    "### Remove outliers"
   ]
  },
  {
   "cell_type": "code",
   "execution_count": 18,
   "id": "c6e1752b-b365-4b3b-817c-f7ec4437decb",
   "metadata": {
    "jupyter": {
     "source_hidden": true
    }
   },
   "outputs": [
    {
     "data": {
      "text/plain": [
       "<AxesSubplot:xlabel='cnt', ylabel='Density'>"
      ]
     },
     "execution_count": 18,
     "metadata": {},
     "output_type": "execute_result"
    },
    {
     "data": {
      "image/png": "[encoded data removed]",
      "text/plain": [
       "<Figure size 432x288 with 1 Axes>"
      ]
     },
     "metadata": {},
     "output_type": "display_data"
    }
   ],
   "source": [
    "sns.distplot(train[target[-1]])"
   ]
  },
  {
   "cell_type": "markdown",
   "id": "2e331624-ef99-47c8-bee9-d9d88094573e",
   "metadata": {},
   "source": [
    "The distribution plot of the count values reveals that the count values do not match a normal distribution. We will use the median and interquartile range (IQR) to identify and remove outliers from the data. (An alternative approach would be the transformation of the target values to a normal distribution and using mean and standard deviation.)"
   ]
  },
  {
   "cell_type": "code",
   "execution_count": 24,
   "id": "ab47cb70-fd9d-47b6-99d1-4f1dd82afc13",
   "metadata": {
    "jupyter": {
     "source_hidden": true
    }
   },
   "outputs": [
    {
     "name": "stdout",
     "output_type": "stream",
     "text": [
      "Samples in train set with outliers: 10427\n",
      "Samples in train set without outliers: 10151\n"
     ]
    },
    {
     "data": {
      "text/plain": [
       "<AxesSubplot:xlabel='cnt', ylabel='Density'>"
      ]
     },
     "execution_count": 24,
     "metadata": {},
     "output_type": "execute_result"
    },
    {
     "data": {
      "image/png": "[encoded data removed]",
      "text/plain": [
       "<Figure size 432x288 with 1 Axes>"
      ]
     },
     "metadata": {},
     "output_type": "display_data"
    }
   ],
   "source": [
    "# to use the median and interquartile range (IQR) to identify and remove outliers from the data\n",
    "print(\"Samples in train set with outliers: {}\".format(len(train)))\n",
    "q1 = train.cnt.quantile(0.25)\n",
    "q3 = train.cnt.quantile(0.75)\n",
    "iqr = q3 - q1\n",
    "lower_bound = q1 -(1.5 * iqr) \n",
    "upper_bound = q3 +(1.5 * iqr) \n",
    "train_preprocessed = train.loc[(train.cnt >= lower_bound) & (train.cnt <= upper_bound)]\n",
    "print(\"Samples in train set without outliers: {}\".format(len(train_preprocessed)))\n",
    "sns.distplot(train_preprocessed.cnt)"
   ]
  },
  {
   "cell_type": "markdown",
   "id": "0d203a76-1040-41de-8a16-0d481ba80cce",
   "metadata": {},
   "source": [
    "## Correlation Analysis"
   ]
  },
  {
   "cell_type": "code",
   "execution_count": 25,
   "id": "2d26b47b-15d4-473e-8cb0-17a893451a3f",
   "metadata": {
    "jupyter": {
     "source_hidden": true
    }
   },
   "outputs": [
    {
     "data": {
      "text/plain": [
       "<AxesSubplot:>"
      ]
     },
     "execution_count": 25,
     "metadata": {},
     "output_type": "execute_result"
    },
    {
     "data": {
      "image/png": "[encoded data removed]",
      "text/plain": [
       "<Figure size 1440x720 with 2 Axes>"
      ]
     },
     "metadata": {},
     "output_type": "display_data"
    }
   ],
   "source": [
    "matrix = train[number_features + target].corr()\n",
    "heat = np.array(matrix)\n",
    "heat[np.tril_indices_from(heat)] = False\n",
    "fig,ax= plt.subplots()\n",
    "fig.set_size_inches(20,10)\n",
    "sns.set(font_scale=1.0)\n",
    "sns.heatmap(matrix, mask=heat,vmax=1.0, vmin=0.0, square=True,annot=True, cmap=\"Reds\")"
   ]
  },
  {
   "cell_type": "markdown",
   "id": "ffd698af-3b9d-42ad-af91-cbabe35f817b",
   "metadata": {},
   "source": [
    "__Conclusion__: At the end of the descriptive analysis chapter, we can note the following points:\n",
    "\n",
    "- Casual and registered contain direct information about the bike sharing count which is to predict (data leakage). Therefore they are not considered in the feature set.\n",
    "- The variables \"temp\" and \"atemp\" are strongly correlated. To reduce the dimensionality of the predictive model, the feature \"atemp\" is dismissed.\n",
    "- The variables \"hr\" and \"temp\" seem to be promising features for the bike sharing count prediction."
   ]
  },
  {
   "cell_type": "code",
   "execution_count": 26,
   "id": "72c5e99f-9493-4608-b4cc-eb2981dca9f2",
   "metadata": {
    "jupyter": {
     "source_hidden": true
    }
   },
   "outputs": [],
   "source": [
    "features.remove('atemp')"
   ]
  },
  {
   "cell_type": "markdown",
   "id": "f64a5227-4bc9-4b41-8d58-2012ee9e6726",
   "metadata": {},
   "source": [
    "## Model Selection"
   ]
  },
  {
   "cell_type": "markdown",
   "id": "8e40d480-ff4a-435d-8e27-9990b8567a5c",
   "metadata": {},
   "source": [
    "The characteristics of the given problem are:\n",
    "\n",
    "- Regression: The target variable is a quantity.\n",
    "- Small dataset: Less than 100K samples.\n",
    "- Few features should be important: The correlation matrix indicates that a few features contain the information to predict the target variable.\n",
    "\n",
    "This characteristic makes the following methods most promising: \n",
    "- Ridge Regression, \n",
    "- Support Vector Regression, \n",
    "- Ensemble Regressor, \n",
    "- Random Forest Regressor.\n",
    "\n",
    "We will evaluate the performance of these models in the following:"
   ]
  },
  {
   "cell_type": "code",
   "execution_count": 27,
   "id": "5576f701-bf45-43a2-bf30-0d3945710927",
   "metadata": {
    "jupyter": {
     "source_hidden": true
    }
   },
   "outputs": [
    {
     "name": "stdout",
     "output_type": "stream",
     "text": [
      "+-----------------------+--------------------+----------+\n",
      "|         Model         | Mean Squared Error | R² score |\n",
      "+-----------------------+--------------------+----------+\n",
      "|      SGDRegressor     |      47311.29      |  -0.02   |\n",
      "|         Lasso         |      43103.36      |   0.07   |\n",
      "|       ElasticNet      |      54155.92      |  -0.17   |\n",
      "|         Ridge         |      42963.88      |   0.07   |\n",
      "|          SVR          |      50794.63      |  -0.09   |\n",
      "|          SVR          |      41659.68      |   0.10   |\n",
      "|    BaggingRegressor   |      18815.21      |   0.59   |\n",
      "|    BaggingRegressor   |      49564.72      |  -0.07   |\n",
      "|         NuSVR         |      41517.67      |   0.11   |\n",
      "| RandomForestRegressor |      18949.93      |   0.59   |\n",
      "+-----------------------+--------------------+----------+\n"
     ]
    }
   ],
   "source": [
    "x_train = train_preprocessed[features].values\n",
    "y_train = train_preprocessed[target].values.ravel()\n",
    "\n",
    "# Sort validation set for plots\n",
    "val = val.sort_values(by=target)\n",
    "x_val = val[features].values\n",
    "y_val = val[target].values.ravel()\n",
    "x_test = test[features].values\n",
    "\n",
    "table = PrettyTable()\n",
    "table.field_names = [\"Model\", \"Mean Squared Error\", \"R² score\"]\n",
    "\n",
    "models = [\n",
    "    SGDRegressor(max_iter=1000, tol=1e-3),\n",
    "    Lasso(alpha=0.1),\n",
    "    ElasticNet(random_state=0),\n",
    "    Ridge(alpha=.5),\n",
    "    SVR(gamma='auto', kernel='linear'),\n",
    "    SVR(gamma='auto', kernel='rbf'),\n",
    "    BaggingRegressor(),\n",
    "    BaggingRegressor(KNeighborsClassifier(), max_samples=0.5, max_features=0.5),\n",
    "    NuSVR(gamma='auto'),\n",
    "    RandomForestRegressor( random_state=0, n_estimators=300)\n",
    "]\n",
    "\n",
    "for model in models:\n",
    "    model.fit(x_train, y_train) \n",
    "    y_res = model.predict(x_val)\n",
    "\n",
    "    mse = mean_squared_error(y_val, y_res)\n",
    "    score = model.score(x_val, y_val)    \n",
    "\n",
    "    table.add_row([type(model).__name__, format(mse, '.2f'), format(score, '.2f')])\n",
    "\n",
    "print(table)"
   ]
  },
  {
   "cell_type": "markdown",
   "id": "082add41-4f31-482a-a622-4450c7467b22",
   "metadata": {},
   "source": [
    "### Random Forest"
   ]
  },
  {
   "cell_type": "code",
   "execution_count": 28,
   "id": "df829129-3669-451a-837a-137e18ae52c3",
   "metadata": {
    "jupyter": {
     "source_hidden": true
    }
   },
   "outputs": [
    {
     "name": "stdout",
     "output_type": "stream",
     "text": [
      "+-----------------------+------------+----------+-------+-------+----------+\n",
      "|         Model         |  Dataset   |   MSE    |  MAE  | RMSLE | R² score |\n",
      "+-----------------------+------------+----------+-------+-------+----------+\n",
      "| RandomForestRegressor |  training  |  298.72  | 10.93 |  0.21 |   0.98   |\n",
      "| RandomForestRegressor | validation | 18950.89 | 96.43 |  0.47 |   0.59   |\n",
      "+-----------------------+------------+----------+-------+-------+----------+\n"
     ]
    }
   ],
   "source": [
    "# Table setup\n",
    "table = PrettyTable()\n",
    "table.field_names = [\"Model\", \"Dataset\", \"MSE\", \"MAE\", 'RMSLE', \"R² score\"]\n",
    "\n",
    "# Model training\n",
    "model = RandomForestRegressor(bootstrap=True, criterion='mse', max_depth=None,\n",
    "           max_features='auto', max_leaf_nodes=None,\n",
    "           min_impurity_decrease=0.0, min_impurity_split=None,\n",
    "           min_samples_leaf=1, min_samples_split=4,\n",
    "           min_weight_fraction_leaf=0.0, n_estimators=200, n_jobs=None,\n",
    "           oob_score=False, random_state=None, verbose=0, warm_start=False)\n",
    "model.fit(x_train, y_train) \n",
    "\n",
    "def evaluate(x, y, dataset):\n",
    "    pred = model.predict(x)\n",
    "\n",
    "    mse = mean_squared_error(y, pred)\n",
    "    mae = mean_absolute_error(y, pred)\n",
    "    score = model.score(x, y)    \n",
    "    rmsle = np.sqrt(mean_squared_log_error(y, pred))\n",
    "\n",
    "    table.add_row([type(model).__name__, dataset, format(mse, '.2f'), format(mae, '.2f'), format(rmsle, '.2f'), format(score, '.2f')])\n",
    "    \n",
    "\n",
    "evaluate(x_train, y_train, 'training')\n",
    "evaluate(x_val, y_val, 'validation')\n",
    "\n",
    "print(table)"
   ]
  },
  {
   "cell_type": "markdown",
   "id": "01c29a17-79c9-4edf-8bad-fecd7f464c89",
   "metadata": {},
   "source": [
    "#### Feature Importance"
   ]
  },
  {
   "cell_type": "code",
   "execution_count": 30,
   "id": "dfe5a478-1b14-4229-b163-83ecf8415309",
   "metadata": {
    "jupyter": {
     "source_hidden": true
    }
   },
   "outputs": [
    {
     "name": "stdout",
     "output_type": "stream",
     "text": [
      "Feature ranking:\n",
      "1. feature hr (0.634371)\n",
      "2. feature temp (0.159023)\n",
      "3. feature hum (0.049263)\n",
      "4. feature workingday (0.047684)\n",
      "5. feature weathersit (0.027297)\n",
      "6. feature windspeed (0.026212)\n",
      "7. feature weekday (0.019981)\n",
      "8. feature mnth (0.019671)\n",
      "9. feature season (0.013248)\n",
      "10. feature holiday (0.003250)\n"
     ]
    }
   ],
   "source": [
    "importances = model.feature_importances_\n",
    "std = np.std([tree.feature_importances_ for tree in model.estimators_], axis=0)\n",
    "indices = np.argsort(importances)[::-1]\n",
    "\n",
    "# Print the feature ranking\n",
    "print(\"Feature ranking:\")\n",
    "\n",
    "for f in range(x_val.shape[1]):\n",
    "    print(\"%d. feature %s (%f)\" % (f + 1, features[indices[f]], importances[indices[f]]))"
   ]
  },
  {
   "cell_type": "code",
   "execution_count": 31,
   "id": "b3b39898-f554-4ca6-af14-b30569aebbbc",
   "metadata": {
    "jupyter": {
     "source_hidden": true
    }
   },
   "outputs": [
    {
     "data": {
      "image/png": "[encoded data removed]",
      "text/plain": [
       "<Figure size 1008x360 with 1 Axes>"
      ]
     },
     "metadata": {},
     "output_type": "display_data"
    }
   ],
   "source": [
    "# Plot the feature importances of the forest\n",
    "plt.figure(figsize=(14,5))\n",
    "plt.title(\"Feature importances\")\n",
    "plt.bar(range(x_val.shape[1]), importances[indices], color=\"cornflowerblue\", yerr=std[indices], align=\"center\")\n",
    "plt.xticks(range(x_val.shape[1]), [features[i] for i in indices])\n",
    "plt.xlim([-1, x_val.shape[1]])\n",
    "plt.show()"
   ]
  },
  {
   "cell_type": "markdown",
   "id": "6262a55f-6f9a-42ec-a363-c360f3317f16",
   "metadata": {},
   "source": [
    "Interpretation: The result corresponds to the high correlation of the hour and temperature variable with the bicycle sharing count in the feature correlation matrix."
   ]
  },
  {
   "cell_type": "markdown",
   "id": "b2844a37-d660-4573-ba8d-a765265c1f7e",
   "metadata": {},
   "source": [
    "## Future Work\n",
    "Here are some ideas of future work to improve the performance of the data model further:\n",
    "\n",
    "- Distribution adjustment of the target variable: Some predictive models assume a normal distribution of the target variable - a transformation in the data preprocessing could improve the performance of such methods.\n",
    "- Bagging Regression seems in better performance than Random Forest."
   ]
  },
  {
   "cell_type": "code",
   "execution_count": null,
   "id": "c16de7cc-fc0e-4dc5-ac8f-e3b692b36258",
   "metadata": {
    "jupyter": {
     "source_hidden": true
    },
    "tags": []
   },
   "outputs": [],
   "source": []
  }
 ],
 "metadata": {
  "kernelspec": {
   "display_name": "Python 3 (ipykernel)",
   "language": "python",
   "name": "python3"
  },
  "language_info": {
   "codemirror_mode": {
    "name": "ipython",
    "version": 3
   },
   "file_extension": ".py",
   "mimetype": "text/x-python",
   "name": "python",
   "nbconvert_exporter": "python",
   "pygments_lexer": "ipython3",
   "version": "3.9.7"
  },
  "toc-autonumbering": false,
  "toc-showcode": false,
  "toc-showmarkdowntxt": false,
  "toc-showtags": false
 },
 "nbformat": 4,
 "nbformat_minor": 5
}
