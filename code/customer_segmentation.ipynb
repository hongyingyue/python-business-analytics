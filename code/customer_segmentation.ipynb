{
 "cells": [
  {
   "cell_type": "markdown",
   "id": "5307d44f",
   "metadata": {},
   "source": [
    "## Customer Segmentation\n",
    "We will be using E-commerce dataset of user purchases and try develop a model that allow us to do two things:\n",
    "- Classifying customers into segments.\n",
    "- Anticipate the purchases that will be made by a new customer, during the following year and this, from its first purchase by assigning them appropriate cluster/segment"
   ]
  },
  {
   "cell_type": "markdown",
   "id": "c2f8c872",
   "metadata": {},
   "source": [
    "## Import packages"
   ]
  },
  {
   "cell_type": "code",
   "execution_count": 1,
   "id": "721755d8",
   "metadata": {},
   "outputs": [],
   "source": [
    "# from __future__ import division\n",
    "import pandas as pd\n",
    "import numpy as np\n",
    "import matplotlib as mpl\n",
    "import matplotlib.pyplot as plt\n",
    "import seaborn as sns\n",
    "import datetime, nltk, warnings\n",
    "import matplotlib.cm as cm\n",
    "import itertools\n",
    "from pathlib import Path\n",
    "from sklearn.preprocessing import StandardScaler\n",
    "from sklearn.cluster import KMeans\n",
    "from sklearn.metrics import silhouette_samples, silhouette_score\n",
    "from sklearn import preprocessing, model_selection, metrics, feature_selection\n",
    "from sklearn.model_selection import GridSearchCV, learning_curve\n",
    "from sklearn.svm import SVC\n",
    "from sklearn.metrics import confusion_matrix\n",
    "from sklearn import neighbors, linear_model, svm, tree, ensemble\n",
    "from wordcloud import WordCloud, STOPWORDS\n",
    "from sklearn.ensemble import AdaBoostClassifier\n",
    "from sklearn.decomposition import PCA\n",
    "from IPython.display import display, HTML\n",
    "#import plotly.plotly as py\n",
    "#import plotly.graph_objs as go\n",
    "#from plotly.offline import init_notebook_mode,iplot\n",
    "#init_notebook_mode(connected=True)\n",
    "warnings.filterwarnings(\"ignore\")\n",
    "plt.rcParams[\"patch.force_edgecolor\"] = True\n",
    "plt.style.use('fivethirtyeight')\n",
    "mpl.rc('patch', edgecolor = 'dimgray', linewidth=1)\n",
    "%matplotlib inline"
   ]
  },
  {
   "cell_type": "markdown",
   "id": "c1a6d2b4",
   "metadata": {},
   "source": [
    "## Data Preparation"
   ]
  },
  {
   "cell_type": "code",
   "execution_count": 3,
   "id": "c1d8e474",
   "metadata": {},
   "outputs": [
    {
     "name": "stdout",
     "output_type": "stream",
     "text": [
      "Dataframe dimensions: (284709, 8)\n"
     ]
    }
   ],
   "source": [
    "# df_initial = pd.read_csv('https://raw.githubusercontent.com/firmai/python-business-analytics/master/data/customer/data.csv',encoding=\"ISO-8859-1\",\n",
    "#                          dtype={'CustomerID': str,'InvoiceID': str})\n",
    "df_initial = pd.read_csv('/Users/hongyingyue/Git/python-business-analytics/data/customer/data.csv',encoding=\"ISO-8859-1\")\n",
    "print('Dataframe dimensions:', df_initial.shape)\n",
    "df_initial['InvoiceDate'] = pd.to_datetime(df_initial['InvoiceDate'])"
   ]
  },
  {
   "cell_type": "code",
   "execution_count": 4,
   "id": "86584edc",
   "metadata": {},
   "outputs": [
    {
     "data": {
      "text/html": [
       "<div>\n",
       "<style scoped>\n",
       "    .dataframe tbody tr th:only-of-type {\n",
       "        vertical-align: middle;\n",
       "    }\n",
       "\n",
       "    .dataframe tbody tr th {\n",
       "        vertical-align: top;\n",
       "    }\n",
       "\n",
       "    .dataframe thead th {\n",
       "        text-align: right;\n",
       "    }\n",
       "</style>\n",
       "<table border=\"1\" class=\"dataframe\">\n",
       "  <thead>\n",
       "    <tr style=\"text-align: right;\">\n",
       "      <th></th>\n",
       "      <th>InvoiceNo</th>\n",
       "      <th>StockCode</th>\n",
       "      <th>Description</th>\n",
       "      <th>Quantity</th>\n",
       "      <th>InvoiceDate</th>\n",
       "      <th>UnitPrice</th>\n",
       "      <th>CustomerID</th>\n",
       "      <th>Country</th>\n",
       "    </tr>\n",
       "  </thead>\n",
       "  <tbody>\n",
       "    <tr>\n",
       "      <th>0</th>\n",
       "      <td>559518</td>\n",
       "      <td>21989</td>\n",
       "      <td>PACK OF 20 SKULL PAPER NAPKINS</td>\n",
       "      <td>6</td>\n",
       "      <td>2011-07-08 16:11:00</td>\n",
       "      <td>1.63</td>\n",
       "      <td>NaN</td>\n",
       "      <td>United Kingdom</td>\n",
       "    </tr>\n",
       "    <tr>\n",
       "      <th>1</th>\n",
       "      <td>559518</td>\n",
       "      <td>22055</td>\n",
       "      <td>MINI CAKE STAND  HANGING STRAWBERY</td>\n",
       "      <td>1</td>\n",
       "      <td>2011-07-08 16:11:00</td>\n",
       "      <td>3.29</td>\n",
       "      <td>NaN</td>\n",
       "      <td>United Kingdom</td>\n",
       "    </tr>\n",
       "    <tr>\n",
       "      <th>2</th>\n",
       "      <td>559518</td>\n",
       "      <td>22179</td>\n",
       "      <td>SET 10 NIGHT OWL LIGHTS</td>\n",
       "      <td>1</td>\n",
       "      <td>2011-07-08 16:11:00</td>\n",
       "      <td>13.29</td>\n",
       "      <td>NaN</td>\n",
       "      <td>United Kingdom</td>\n",
       "    </tr>\n",
       "    <tr>\n",
       "      <th>3</th>\n",
       "      <td>559518</td>\n",
       "      <td>22297</td>\n",
       "      <td>HEART IVORY TRELLIS SMALL</td>\n",
       "      <td>1</td>\n",
       "      <td>2011-07-08 16:11:00</td>\n",
       "      <td>2.46</td>\n",
       "      <td>NaN</td>\n",
       "      <td>United Kingdom</td>\n",
       "    </tr>\n",
       "    <tr>\n",
       "      <th>4</th>\n",
       "      <td>559518</td>\n",
       "      <td>22352</td>\n",
       "      <td>LUNCH BOX WITH CUTLERY RETROSPOT</td>\n",
       "      <td>1</td>\n",
       "      <td>2011-07-08 16:11:00</td>\n",
       "      <td>4.96</td>\n",
       "      <td>NaN</td>\n",
       "      <td>United Kingdom</td>\n",
       "    </tr>\n",
       "  </tbody>\n",
       "</table>\n",
       "</div>"
      ],
      "text/plain": [
       "  InvoiceNo StockCode                         Description  Quantity  \\\n",
       "0    559518     21989      PACK OF 20 SKULL PAPER NAPKINS         6   \n",
       "1    559518     22055  MINI CAKE STAND  HANGING STRAWBERY         1   \n",
       "2    559518     22179             SET 10 NIGHT OWL LIGHTS         1   \n",
       "3    559518     22297           HEART IVORY TRELLIS SMALL         1   \n",
       "4    559518     22352   LUNCH BOX WITH CUTLERY RETROSPOT          1   \n",
       "\n",
       "          InvoiceDate  UnitPrice  CustomerID         Country  \n",
       "0 2011-07-08 16:11:00       1.63         NaN  United Kingdom  \n",
       "1 2011-07-08 16:11:00       3.29         NaN  United Kingdom  \n",
       "2 2011-07-08 16:11:00      13.29         NaN  United Kingdom  \n",
       "3 2011-07-08 16:11:00       2.46         NaN  United Kingdom  \n",
       "4 2011-07-08 16:11:00       4.96         NaN  United Kingdom  "
      ]
     },
     "execution_count": 4,
     "metadata": {},
     "output_type": "execute_result"
    }
   ],
   "source": [
    "df_initial.head()"
   ]
  },
  {
   "cell_type": "markdown",
   "id": "650a8666",
   "metadata": {},
   "source": [
    "## EDA"
   ]
  },
  {
   "cell_type": "markdown",
   "id": "0be2fce9",
   "metadata": {},
   "source": [
    "### Identify null values"
   ]
  },
  {
   "cell_type": "code",
   "execution_count": 6,
   "id": "4cb82db0",
   "metadata": {
    "scrolled": true
   },
   "outputs": [
    {
     "name": "stdout",
     "output_type": "stream",
     "text": [
      "---------- Display information about column types and number of null values ----------\n"
     ]
    },
    {
     "data": {
      "text/html": [
       "<div>\n",
       "<style scoped>\n",
       "    .dataframe tbody tr th:only-of-type {\n",
       "        vertical-align: middle;\n",
       "    }\n",
       "\n",
       "    .dataframe tbody tr th {\n",
       "        vertical-align: top;\n",
       "    }\n",
       "\n",
       "    .dataframe thead th {\n",
       "        text-align: right;\n",
       "    }\n",
       "</style>\n",
       "<table border=\"1\" class=\"dataframe\">\n",
       "  <thead>\n",
       "    <tr style=\"text-align: right;\">\n",
       "      <th></th>\n",
       "      <th>InvoiceNo</th>\n",
       "      <th>StockCode</th>\n",
       "      <th>Description</th>\n",
       "      <th>Quantity</th>\n",
       "      <th>InvoiceDate</th>\n",
       "      <th>UnitPrice</th>\n",
       "      <th>CustomerID</th>\n",
       "      <th>Country</th>\n",
       "    </tr>\n",
       "  </thead>\n",
       "  <tbody>\n",
       "    <tr>\n",
       "      <th>column type</th>\n",
       "      <td>object</td>\n",
       "      <td>object</td>\n",
       "      <td>object</td>\n",
       "      <td>int64</td>\n",
       "      <td>datetime64[ns]</td>\n",
       "      <td>float64</td>\n",
       "      <td>float64</td>\n",
       "      <td>object</td>\n",
       "    </tr>\n",
       "    <tr>\n",
       "      <th>null values (nb)</th>\n",
       "      <td>0</td>\n",
       "      <td>0</td>\n",
       "      <td>502</td>\n",
       "      <td>0</td>\n",
       "      <td>0</td>\n",
       "      <td>0</td>\n",
       "      <td>61357</td>\n",
       "      <td>0</td>\n",
       "    </tr>\n",
       "    <tr>\n",
       "      <th>null values (%)</th>\n",
       "      <td>0.0</td>\n",
       "      <td>0.0</td>\n",
       "      <td>0.18</td>\n",
       "      <td>0.0</td>\n",
       "      <td>0.0</td>\n",
       "      <td>0.0</td>\n",
       "      <td>21.55</td>\n",
       "      <td>0.0</td>\n",
       "    </tr>\n",
       "  </tbody>\n",
       "</table>\n",
       "</div>"
      ],
      "text/plain": [
       "                 InvoiceNo StockCode Description Quantity     InvoiceDate  \\\n",
       "column type         object    object      object    int64  datetime64[ns]   \n",
       "null values (nb)         0         0         502        0               0   \n",
       "null values (%)        0.0       0.0        0.18      0.0             0.0   \n",
       "\n",
       "                 UnitPrice CustomerID Country  \n",
       "column type        float64    float64  object  \n",
       "null values (nb)         0      61357       0  \n",
       "null values (%)        0.0      21.55     0.0  "
      ]
     },
     "metadata": {},
     "output_type": "display_data"
    }
   ],
   "source": [
    "# gives some infomation on columns types and number of null values\n",
    "tab_info=pd.DataFrame(df_initial.dtypes).T.rename(index={0:'column type'})\n",
    "tab_info=tab_info.append(pd.DataFrame(df_initial.isnull().sum()).T.rename(index={0:'null values (nb)'}))\n",
    "tab_info=tab_info.append(pd.DataFrame(round(df_initial.isnull().sum()/df_initial.shape[0]*100,2)).T.\n",
    "                         rename(index={0:'null values (%)'}))\n",
    "print ('-' * 10 + \" Display information about column types and number of null values \" + '-' * 10 )\n",
    "print \n",
    "display(tab_info)"
   ]
  },
  {
   "cell_type": "markdown",
   "id": "40e7733b",
   "metadata": {},
   "source": [
    "Note:\n",
    "- If you are looking to the CustomerID column then there are  ∼ 25% data entries are null.\n",
    "- That means there are  ∼ 25% of data entries which aren't assigned to any customer(s).\n",
    "- It is impossible for us to map values for the customer and these entries. These are usless for the current exercise.\n",
    "\n",
    "Because of all the above points we are deleting these data entries."
   ]
  },
  {
   "cell_type": "markdown",
   "id": "7c0abf16",
   "metadata": {},
   "source": [
    "### Remove data entries"
   ]
  },
  {
   "cell_type": "code",
   "execution_count": 8,
   "id": "3804629a",
   "metadata": {},
   "outputs": [
    {
     "name": "stdout",
     "output_type": "stream",
     "text": [
      "Dataframe dimensions: (223352, 8)\n"
     ]
    },
    {
     "data": {
      "text/html": [
       "<div>\n",
       "<style scoped>\n",
       "    .dataframe tbody tr th:only-of-type {\n",
       "        vertical-align: middle;\n",
       "    }\n",
       "\n",
       "    .dataframe tbody tr th {\n",
       "        vertical-align: top;\n",
       "    }\n",
       "\n",
       "    .dataframe thead th {\n",
       "        text-align: right;\n",
       "    }\n",
       "</style>\n",
       "<table border=\"1\" class=\"dataframe\">\n",
       "  <thead>\n",
       "    <tr style=\"text-align: right;\">\n",
       "      <th></th>\n",
       "      <th>InvoiceNo</th>\n",
       "      <th>StockCode</th>\n",
       "      <th>Description</th>\n",
       "      <th>Quantity</th>\n",
       "      <th>InvoiceDate</th>\n",
       "      <th>UnitPrice</th>\n",
       "      <th>CustomerID</th>\n",
       "      <th>Country</th>\n",
       "    </tr>\n",
       "  </thead>\n",
       "  <tbody>\n",
       "    <tr>\n",
       "      <th>column type</th>\n",
       "      <td>object</td>\n",
       "      <td>object</td>\n",
       "      <td>object</td>\n",
       "      <td>int64</td>\n",
       "      <td>datetime64[ns]</td>\n",
       "      <td>float64</td>\n",
       "      <td>float64</td>\n",
       "      <td>object</td>\n",
       "    </tr>\n",
       "    <tr>\n",
       "      <th>null values (nb)</th>\n",
       "      <td>0</td>\n",
       "      <td>0</td>\n",
       "      <td>0</td>\n",
       "      <td>0</td>\n",
       "      <td>0</td>\n",
       "      <td>0</td>\n",
       "      <td>0</td>\n",
       "      <td>0</td>\n",
       "    </tr>\n",
       "    <tr>\n",
       "      <th>null values (%)</th>\n",
       "      <td>0.0</td>\n",
       "      <td>0.0</td>\n",
       "      <td>0.0</td>\n",
       "      <td>0.0</td>\n",
       "      <td>0.0</td>\n",
       "      <td>0.0</td>\n",
       "      <td>0.0</td>\n",
       "      <td>0.0</td>\n",
       "    </tr>\n",
       "  </tbody>\n",
       "</table>\n",
       "</div>"
      ],
      "text/plain": [
       "                 InvoiceNo StockCode Description Quantity     InvoiceDate  \\\n",
       "column type         object    object      object    int64  datetime64[ns]   \n",
       "null values (nb)         0         0           0        0               0   \n",
       "null values (%)        0.0       0.0         0.0      0.0             0.0   \n",
       "\n",
       "                 UnitPrice CustomerID Country  \n",
       "column type        float64    float64  object  \n",
       "null values (nb)         0          0       0  \n",
       "null values (%)        0.0        0.0     0.0  "
      ]
     },
     "metadata": {},
     "output_type": "display_data"
    }
   ],
   "source": [
    "df_initial.dropna(axis = 0, subset = ['CustomerID'], inplace = True)\n",
    "print('Dataframe dimensions:', df_initial.shape)\n",
    "# gives some information on columns types and number of null values\n",
    "tab_info=pd.DataFrame(df_initial.dtypes).T.rename(index={0:'column type'})\n",
    "tab_info=tab_info.append(pd.DataFrame(df_initial.isnull().sum()).T.rename(index={0:'null values (nb)'}))\n",
    "tab_info=tab_info.append(pd.DataFrame(round(df_initial.isnull().sum()/df_initial.shape[0]*100,2)).T.\n",
    "                         rename(index={0:'null values (%)'}))\n",
    "display(tab_info)"
   ]
  },
  {
   "cell_type": "code",
   "execution_count": 9,
   "id": "7d29d1aa",
   "metadata": {},
   "outputs": [
    {
     "name": "stdout",
     "output_type": "stream",
     "text": [
      "Duplicate data entries: 3175\n"
     ]
    }
   ],
   "source": [
    "print('Duplicate data entries: {}'.format(df_initial.duplicated().sum()))\n",
    "df_initial.drop_duplicates(inplace = True)"
   ]
  },
  {
   "cell_type": "markdown",
   "id": "59e94106",
   "metadata": {},
   "source": [
    "## Explore data attributes"
   ]
  },
  {
   "cell_type": "markdown",
   "id": "18096add",
   "metadata": {},
   "source": [
    "### Country"
   ]
  },
  {
   "cell_type": "code",
   "execution_count": 10,
   "id": "a0d67049",
   "metadata": {},
   "outputs": [
    {
     "name": "stdout",
     "output_type": "stream",
     "text": [
      "No. of cuntries in dataframe: 32\n"
     ]
    }
   ],
   "source": [
    "temp = df_initial[['CustomerID', 'InvoiceNo', 'Country']].groupby(\n",
    "    ['CustomerID', 'InvoiceNo', 'Country']).count()\n",
    "temp = temp.reset_index(drop = False)\n",
    "countries = temp['Country'].value_counts()\n",
    "print('No. of cuntries in dataframe: {}'.format(len(countries)))"
   ]
  },
  {
   "cell_type": "code",
   "execution_count": 14,
   "id": "ede4dea5",
   "metadata": {},
   "outputs": [
    {
     "name": "stdout",
     "output_type": "stream",
     "text": [
      "---------- Contry-wise order calculation ----------\n",
      "                 Country  Country wise number of order\n",
      "30        United Kingdom                        195468\n",
      "12               Germany                          5020\n",
      "11                France                          4633\n",
      "8                   EIRE                          4592\n",
      "25                 Spain                          1326\n",
      "19           Netherlands                          1126\n",
      "27           Switzerland                          1095\n",
      "2                Belgium                          1072\n",
      "22              Portugal                           847\n",
      "20                Norway                           708\n",
      "0              Australia                           587\n",
      "16                 Italy                           491\n",
      "4        Channel Islands                           389\n",
      "10               Finland                           363\n",
      "1                Austria                           274\n",
      "28                   USA                           269\n",
      "5                 Cyprus                           259\n",
      "26                Sweden                           241\n",
      "15                Israel                           229\n",
      "7                Denmark                           205\n",
      "31           Unspecified                           169\n",
      "21                Poland                           154\n",
      "24             Singapore                           111\n",
      "17                 Japan                           107\n",
      "3                 Canada                            83\n",
      "18                 Malta                            80\n",
      "14               Iceland                            80\n",
      "13                Greece                            61\n",
      "23                   RSA                            58\n",
      "29  United Arab Emirates                            38\n",
      "9     European Community                            29\n",
      "6         Czech Republic                            13\n"
     ]
    }
   ],
   "source": [
    "temp_no_of_order_per_count = df_initial[['CustomerID','Country']].groupby(['Country']).count()\n",
    "temp_no_of_order_per_count = temp_no_of_order_per_count.reset_index(drop = False)\n",
    "\n",
    "print('-' * 10 + \" Contry-wise order calculation \"+ '-' * 10)\n",
    "print\n",
    "print (temp_no_of_order_per_count.sort_values(\n",
    "    by='CustomerID', ascending=False).rename(index=str,\n",
    "                                        columns={\"CustomerID\": \"Country wise number of order\"}))"
   ]
  },
  {
   "cell_type": "markdown",
   "id": "e358671b",
   "metadata": {},
   "source": [
    "### Customers and Products"
   ]
  },
  {
   "cell_type": "code",
   "execution_count": 15,
   "id": "5279e423",
   "metadata": {},
   "outputs": [
    {
     "data": {
      "text/html": [
       "<div>\n",
       "<style scoped>\n",
       "    .dataframe tbody tr th:only-of-type {\n",
       "        vertical-align: middle;\n",
       "    }\n",
       "\n",
       "    .dataframe tbody tr th {\n",
       "        vertical-align: top;\n",
       "    }\n",
       "\n",
       "    .dataframe thead th {\n",
       "        text-align: right;\n",
       "    }\n",
       "</style>\n",
       "<table border=\"1\" class=\"dataframe\">\n",
       "  <thead>\n",
       "    <tr style=\"text-align: right;\">\n",
       "      <th></th>\n",
       "      <th>products</th>\n",
       "      <th>transactions</th>\n",
       "      <th>customers</th>\n",
       "    </tr>\n",
       "  </thead>\n",
       "  <tbody>\n",
       "    <tr>\n",
       "      <th>quantity</th>\n",
       "      <td>3182</td>\n",
       "      <td>11068</td>\n",
       "      <td>3341</td>\n",
       "    </tr>\n",
       "  </tbody>\n",
       "</table>\n",
       "</div>"
      ],
      "text/plain": [
       "          products  transactions  customers\n",
       "quantity      3182         11068       3341"
      ]
     },
     "execution_count": 15,
     "metadata": {},
     "output_type": "execute_result"
    }
   ],
   "source": [
    "pd.DataFrame([{'products': len(df_initial['StockCode'].value_counts()),    \n",
    "               'transactions': len(df_initial['InvoiceNo'].value_counts()),\n",
    "               'customers': len(df_initial['CustomerID'].value_counts()),  \n",
    "              }], columns = ['products', 'transactions', 'customers'], \n",
    "              index = ['quantity'])"
   ]
  },
  {
   "cell_type": "code",
   "execution_count": 16,
   "id": "b00b4b80",
   "metadata": {},
   "outputs": [
    {
     "data": {
      "text/html": [
       "<div>\n",
       "<style scoped>\n",
       "    .dataframe tbody tr th:only-of-type {\n",
       "        vertical-align: middle;\n",
       "    }\n",
       "\n",
       "    .dataframe tbody tr th {\n",
       "        vertical-align: top;\n",
       "    }\n",
       "\n",
       "    .dataframe thead th {\n",
       "        text-align: right;\n",
       "    }\n",
       "</style>\n",
       "<table border=\"1\" class=\"dataframe\">\n",
       "  <thead>\n",
       "    <tr style=\"text-align: right;\">\n",
       "      <th></th>\n",
       "      <th>CustomerID</th>\n",
       "      <th>InvoiceNo</th>\n",
       "      <th>Number of products</th>\n",
       "    </tr>\n",
       "  </thead>\n",
       "  <tbody>\n",
       "    <tr>\n",
       "      <th>0</th>\n",
       "      <td>12347.0</td>\n",
       "      <td>562032</td>\n",
       "      <td>22</td>\n",
       "    </tr>\n",
       "    <tr>\n",
       "      <th>1</th>\n",
       "      <td>12347.0</td>\n",
       "      <td>573511</td>\n",
       "      <td>47</td>\n",
       "    </tr>\n",
       "    <tr>\n",
       "      <th>2</th>\n",
       "      <td>12347.0</td>\n",
       "      <td>581180</td>\n",
       "      <td>11</td>\n",
       "    </tr>\n",
       "    <tr>\n",
       "      <th>3</th>\n",
       "      <td>12348.0</td>\n",
       "      <td>568172</td>\n",
       "      <td>3</td>\n",
       "    </tr>\n",
       "    <tr>\n",
       "      <th>4</th>\n",
       "      <td>12349.0</td>\n",
       "      <td>577609</td>\n",
       "      <td>73</td>\n",
       "    </tr>\n",
       "    <tr>\n",
       "      <th>5</th>\n",
       "      <td>12352.0</td>\n",
       "      <td>567505</td>\n",
       "      <td>18</td>\n",
       "    </tr>\n",
       "    <tr>\n",
       "      <th>6</th>\n",
       "      <td>12352.0</td>\n",
       "      <td>568699</td>\n",
       "      <td>14</td>\n",
       "    </tr>\n",
       "    <tr>\n",
       "      <th>7</th>\n",
       "      <td>12352.0</td>\n",
       "      <td>574275</td>\n",
       "      <td>15</td>\n",
       "    </tr>\n",
       "    <tr>\n",
       "      <th>8</th>\n",
       "      <td>12356.0</td>\n",
       "      <td>576895</td>\n",
       "      <td>2</td>\n",
       "    </tr>\n",
       "    <tr>\n",
       "      <th>9</th>\n",
       "      <td>12357.0</td>\n",
       "      <td>574740</td>\n",
       "      <td>131</td>\n",
       "    </tr>\n",
       "  </tbody>\n",
       "</table>\n",
       "</div>"
      ],
      "text/plain": [
       "   CustomerID InvoiceNo  Number of products\n",
       "0     12347.0    562032                  22\n",
       "1     12347.0    573511                  47\n",
       "2     12347.0    581180                  11\n",
       "3     12348.0    568172                   3\n",
       "4     12349.0    577609                  73\n",
       "5     12352.0    567505                  18\n",
       "6     12352.0    568699                  14\n",
       "7     12352.0    574275                  15\n",
       "8     12356.0    576895                   2\n",
       "9     12357.0    574740                 131"
      ]
     },
     "execution_count": 16,
     "metadata": {},
     "output_type": "execute_result"
    }
   ],
   "source": [
    "# to explore the number of products purchased in every transaction\n",
    "temp = df_initial.groupby(by=['CustomerID', 'InvoiceNo'], as_index=False)['InvoiceDate'].count()\n",
    "nb_products_per_basket = temp.rename(columns = {'InvoiceDate':'Number of products'})\n",
    "nb_products_per_basket[:10].sort_values('CustomerID')"
   ]
  },
  {
   "cell_type": "code",
   "execution_count": 19,
   "id": "5f0d8769",
   "metadata": {},
   "outputs": [
    {
     "data": {
      "text/html": [
       "<div>\n",
       "<style scoped>\n",
       "    .dataframe tbody tr th:only-of-type {\n",
       "        vertical-align: middle;\n",
       "    }\n",
       "\n",
       "    .dataframe tbody tr th {\n",
       "        vertical-align: top;\n",
       "    }\n",
       "\n",
       "    .dataframe thead th {\n",
       "        text-align: right;\n",
       "    }\n",
       "</style>\n",
       "<table border=\"1\" class=\"dataframe\">\n",
       "  <thead>\n",
       "    <tr style=\"text-align: right;\">\n",
       "      <th></th>\n",
       "      <th>CustomerID</th>\n",
       "      <th>InvoiceNo</th>\n",
       "      <th>Number of products</th>\n",
       "    </tr>\n",
       "  </thead>\n",
       "  <tbody>\n",
       "    <tr>\n",
       "      <th>33</th>\n",
       "      <td>12371.0</td>\n",
       "      <td>572770</td>\n",
       "      <td>1</td>\n",
       "    </tr>\n",
       "    <tr>\n",
       "      <th>38</th>\n",
       "      <td>12375.0</td>\n",
       "      <td>C581071</td>\n",
       "      <td>1</td>\n",
       "    </tr>\n",
       "    <tr>\n",
       "      <th>44</th>\n",
       "      <td>12380.0</td>\n",
       "      <td>C572532</td>\n",
       "      <td>1</td>\n",
       "    </tr>\n",
       "  </tbody>\n",
       "</table>\n",
       "</div>"
      ],
      "text/plain": [
       "    CustomerID InvoiceNo  Number of products\n",
       "33     12371.0    572770                   1\n",
       "38     12375.0   C581071                   1\n",
       "44     12380.0   C572532                   1"
      ]
     },
     "execution_count": 19,
     "metadata": {},
     "output_type": "execute_result"
    }
   ],
   "source": [
    "nb_products_per_basket[nb_products_per_basket['Number of products']==1].head(3)"
   ]
  },
  {
   "cell_type": "markdown",
   "id": "0332f06e",
   "metadata": {},
   "source": [
    "Points to be noted here:\n",
    "- There are some users who only came one time on the E-commerce platform and purchased one item. The example of this kind of user is customerID 12371.\n",
    "- There are some users who frequently buy large number of items per order. The example of this kind of user is customerID 12357.\n",
    "- If you notice InvoiceNo data attribute then you can find out that there is prefix 'C' for one invoice. This 'C' indicates that the particular transaction has been cancelled."
   ]
  },
  {
   "cell_type": "markdown",
   "id": "b007ec00",
   "metadata": {},
   "source": [
    "### Cancelled orders\n",
    "We need to count the number of transactions corresponding to cancelled orders"
   ]
  },
  {
   "cell_type": "code",
   "execution_count": 23,
   "id": "0137de40",
   "metadata": {},
   "outputs": [
    {
     "data": {
      "text/html": [
       "<div>\n",
       "<style scoped>\n",
       "    .dataframe tbody tr th:only-of-type {\n",
       "        vertical-align: middle;\n",
       "    }\n",
       "\n",
       "    .dataframe tbody tr th {\n",
       "        vertical-align: top;\n",
       "    }\n",
       "\n",
       "    .dataframe thead th {\n",
       "        text-align: right;\n",
       "    }\n",
       "</style>\n",
       "<table border=\"1\" class=\"dataframe\">\n",
       "  <thead>\n",
       "    <tr style=\"text-align: right;\">\n",
       "      <th></th>\n",
       "      <th>CustomerID</th>\n",
       "      <th>InvoiceNo</th>\n",
       "      <th>Number of products</th>\n",
       "      <th>order_cancelled</th>\n",
       "    </tr>\n",
       "  </thead>\n",
       "  <tbody>\n",
       "    <tr>\n",
       "      <th>38</th>\n",
       "      <td>12375.0</td>\n",
       "      <td>C581071</td>\n",
       "      <td>1</td>\n",
       "      <td>1</td>\n",
       "    </tr>\n",
       "    <tr>\n",
       "      <th>39</th>\n",
       "      <td>12378.0</td>\n",
       "      <td>562046</td>\n",
       "      <td>219</td>\n",
       "      <td>0</td>\n",
       "    </tr>\n",
       "    <tr>\n",
       "      <th>40</th>\n",
       "      <td>12379.0</td>\n",
       "      <td>567196</td>\n",
       "      <td>20</td>\n",
       "      <td>0</td>\n",
       "    </tr>\n",
       "    <tr>\n",
       "      <th>41</th>\n",
       "      <td>12380.0</td>\n",
       "      <td>567928</td>\n",
       "      <td>28</td>\n",
       "      <td>0</td>\n",
       "    </tr>\n",
       "    <tr>\n",
       "      <th>42</th>\n",
       "      <td>12380.0</td>\n",
       "      <td>571187</td>\n",
       "      <td>23</td>\n",
       "      <td>0</td>\n",
       "    </tr>\n",
       "    <tr>\n",
       "      <th>43</th>\n",
       "      <td>12380.0</td>\n",
       "      <td>577180</td>\n",
       "      <td>17</td>\n",
       "      <td>0</td>\n",
       "    </tr>\n",
       "    <tr>\n",
       "      <th>44</th>\n",
       "      <td>12380.0</td>\n",
       "      <td>C572532</td>\n",
       "      <td>1</td>\n",
       "      <td>1</td>\n",
       "    </tr>\n",
       "  </tbody>\n",
       "</table>\n",
       "</div>"
      ],
      "text/plain": [
       "    CustomerID InvoiceNo  Number of products  order_cancelled\n",
       "38     12375.0   C581071                   1                1\n",
       "39     12378.0    562046                 219                0\n",
       "40     12379.0    567196                  20                0\n",
       "41     12380.0    567928                  28                0\n",
       "42     12380.0    571187                  23                0\n",
       "43     12380.0    577180                  17                0\n",
       "44     12380.0   C572532                   1                1"
      ]
     },
     "metadata": {},
     "output_type": "display_data"
    },
    {
     "name": "stdout",
     "output_type": "stream",
     "text": [
      "Number of orders cancelled: 1686/11068 (15.23%) \n"
     ]
    }
   ],
   "source": [
    "nb_products_per_basket['order_cancelled'] = nb_products_per_basket['InvoiceNo'].apply(\n",
    "    lambda x:int('C' in x))\n",
    "display(nb_products_per_basket[38:45])\n",
    "\n",
    "n1 = nb_products_per_basket['order_cancelled'].sum()\n",
    "n2 = nb_products_per_basket.shape[0]\n",
    "percentage = (n1/n2)*100\n",
    "print('Number of orders cancelled: {}/{} ({:.2f}%) '.format(n1, n2, percentage))"
   ]
  },
  {
   "cell_type": "code",
   "execution_count": 25,
   "id": "69d1877e",
   "metadata": {},
   "outputs": [
    {
     "name": "stdout",
     "output_type": "stream",
     "text": [
      "CustomerID                         14808.0\n",
      "Quantity                                -1\n",
      "StockCode                            22655\n",
      "Description    VINTAGE RED KITCHEN CABINET\n",
      "UnitPrice                            125.0\n",
      "Name: 279, dtype: object\n",
      "---------------> HYPOTHESIS NOT FULFILLED\n"
     ]
    }
   ],
   "source": [
    "# to check if there is systematically an order indicating the same quantity (but positive), \n",
    "# with the same description (CustomerID, Description and UnitPrice)\n",
    "df_check = df_initial[df_initial['Quantity'] < 0][['CustomerID','Quantity',\n",
    "                                                   'StockCode','Description','UnitPrice']]\n",
    "for index, col in  df_check.iterrows():\n",
    "    if df_initial[(df_initial['CustomerID'] == col[0]) & (df_initial['Quantity'] == -col[1]) \n",
    "                & (df_initial['Description'] == col[2])].shape[0] == 0: \n",
    "        print(df_check.loc[index])\n",
    "        print(15*'-'+'>'+' HYPOTHESIS NOT FULFILLED')\n",
    "        break"
   ]
  },
  {
   "cell_type": "code",
   "execution_count": 26,
   "id": "50d71aac",
   "metadata": {},
   "outputs": [
    {
     "name": "stdout",
     "output_type": "stream",
     "text": [
      "279 CustomerID                         14808.0\n",
      "Quantity                                -1\n",
      "StockCode                            22655\n",
      "Description    VINTAGE RED KITCHEN CABINET\n",
      "UnitPrice                            125.0\n",
      "Name: 279, dtype: object\n",
      "---------------> HYPOTHESIS NOT FULFILLED\n"
     ]
    }
   ],
   "source": [
    "# because of the existence of a 'Discount' entry\n",
    "# to check again the hypothesis but this time discarding the 'Discount' entries\n",
    "df_check = df_initial[(df_initial['Quantity'] < 0) & (df_initial['Description'] != 'Discount')][\n",
    "                                 ['CustomerID','Quantity','StockCode',\n",
    "                                  'Description','UnitPrice']]\n",
    "\n",
    "for index, col in  df_check.iterrows():\n",
    "    if df_initial[(df_initial['CustomerID'] == col[0]) & (df_initial['Quantity'] == -col[1]) \n",
    "                & (df_initial['Description'] == col[2])].shape[0] == 0: \n",
    "        print(index, df_check.loc[index])\n",
    "        print(15*'-'+'>'+' HYPOTHESIS NOT FULFILLED')\n",
    "        break"
   ]
  },
  {
   "cell_type": "markdown",
   "id": "e6a39ef9",
   "metadata": {},
   "source": [
    "Once more, the initial hypothesis is not verified. \n",
    "Hence, cancellations do not necessarily correspond to orders that would have been made beforehand."
   ]
  },
  {
   "cell_type": "code",
   "execution_count": 27,
   "id": "2d092c7c",
   "metadata": {},
   "outputs": [],
   "source": [
    "# to create a new variable in the dataframe that indicate if part of the command has been canceled\n",
    "# For the cancellations without counterparts, a few of them are probably due to the fact that \n",
    "# the buy orders were performed before December 2010 (the point of entry of the database). \n",
    "# Below, to make a census of the cancel orders and check for the existence of counterparts:\n",
    "df_cleaned = df_initial.copy(deep = True)\n",
    "df_cleaned['QuantityCanceled'] = 0\n",
    "\n",
    "entry_to_remove = [] ; doubtfull_entry = []\n",
    "\n",
    "for index, col in  df_initial.iterrows():\n",
    "    if (col['Quantity'] > 0) or col['Description'] == 'Discount': continue        \n",
    "    df_test = df_initial[(df_initial['CustomerID'] == col['CustomerID']) &\n",
    "                         (df_initial['StockCode']  == col['StockCode']) & \n",
    "                         (df_initial['InvoiceDate'] < col['InvoiceDate']) & \n",
    "                         (df_initial['Quantity']   > 0)].copy()\n",
    "\n",
    "    # Cancelation WITHOUT counterpart\n",
    "    if (df_test.shape[0] == 0): \n",
    "        doubtfull_entry.append(index)\n",
    "   \n",
    "    # Cancelation WITH a counterpart\n",
    "    elif (df_test.shape[0] == 1): \n",
    "        index_order = df_test.index[0]\n",
    "        df_cleaned.loc[index_order, 'QuantityCanceled'] = -col['Quantity']\n",
    "        entry_to_remove.append(index)        \n",
    "   \n",
    "    # Various counterparts exist in orders: we delete the last one\n",
    "    elif (df_test.shape[0] > 1): \n",
    "        df_test.sort_index(axis=0 ,ascending=False, inplace = True)        \n",
    "        for ind, val in df_test.iterrows():\n",
    "            if val['Quantity'] < -col['Quantity']: continue\n",
    "            df_cleaned.loc[ind, 'QuantityCanceled'] = -col['Quantity']\n",
    "            entry_to_remove.append(index) \n",
    "            break            "
   ]
  },
  {
   "cell_type": "markdown",
   "id": "a32d670e",
   "metadata": {},
   "source": [
    "In the above function, I checked the two cases:\n",
    "- a cancel order exists without counterpart\n",
    "- there's at least one counterpart with the exact same quantity\n",
    "\n",
    "The index of the corresponding cancel order are respectively kept in the doubtfull_entry and entry_to_remove lists whose sizes are:"
   ]
  },
  {
   "cell_type": "code",
   "execution_count": 28,
   "id": "c8064ae8",
   "metadata": {},
   "outputs": [
    {
     "name": "stdout",
     "output_type": "stream",
     "text": [
      "entry_to_remove: 3424\n",
      "doubtfull_entry: 984\n"
     ]
    }
   ],
   "source": [
    "print(\"entry_to_remove: {}\".format(len(entry_to_remove)))\n",
    "print(\"doubtfull_entry: {}\".format(len(doubtfull_entry)))"
   ]
  },
  {
   "cell_type": "code",
   "execution_count": 43,
   "id": "116bbddd",
   "metadata": {},
   "outputs": [
    {
     "name": "stdout",
     "output_type": "stream",
     "text": [
      "nb of entries to delete: 10\n"
     ]
    },
    {
     "data": {
      "text/html": [
       "<div>\n",
       "<style scoped>\n",
       "    .dataframe tbody tr th:only-of-type {\n",
       "        vertical-align: middle;\n",
       "    }\n",
       "\n",
       "    .dataframe tbody tr th {\n",
       "        vertical-align: top;\n",
       "    }\n",
       "\n",
       "    .dataframe thead th {\n",
       "        text-align: right;\n",
       "    }\n",
       "</style>\n",
       "<table border=\"1\" class=\"dataframe\">\n",
       "  <thead>\n",
       "    <tr style=\"text-align: right;\">\n",
       "      <th></th>\n",
       "      <th>InvoiceNo</th>\n",
       "      <th>StockCode</th>\n",
       "      <th>Description</th>\n",
       "      <th>Quantity</th>\n",
       "      <th>InvoiceDate</th>\n",
       "      <th>UnitPrice</th>\n",
       "      <th>CustomerID</th>\n",
       "      <th>Country</th>\n",
       "      <th>QuantityCanceled</th>\n",
       "    </tr>\n",
       "  </thead>\n",
       "  <tbody>\n",
       "    <tr>\n",
       "      <th>76464</th>\n",
       "      <td>C566209</td>\n",
       "      <td>23355</td>\n",
       "      <td>HOT WATER BOTTLE KEEP CALM</td>\n",
       "      <td>-5</td>\n",
       "      <td>2011-09-09 15:04:00</td>\n",
       "      <td>4.95</td>\n",
       "      <td>16362.0</td>\n",
       "      <td>United Kingdom</td>\n",
       "      <td>0</td>\n",
       "    </tr>\n",
       "    <tr>\n",
       "      <th>80564</th>\n",
       "      <td>C566467</td>\n",
       "      <td>22384</td>\n",
       "      <td>LUNCH BAG PINK POLKADOT</td>\n",
       "      <td>-14</td>\n",
       "      <td>2011-09-12 18:04:00</td>\n",
       "      <td>1.65</td>\n",
       "      <td>14688.0</td>\n",
       "      <td>United Kingdom</td>\n",
       "      <td>0</td>\n",
       "    </tr>\n",
       "    <tr>\n",
       "      <th>103337</th>\n",
       "      <td>C568232</td>\n",
       "      <td>23007</td>\n",
       "      <td>SPACEBOY BABY GIFT SET</td>\n",
       "      <td>-3</td>\n",
       "      <td>2011-09-26 11:27:00</td>\n",
       "      <td>16.95</td>\n",
       "      <td>14808.0</td>\n",
       "      <td>United Kingdom</td>\n",
       "      <td>0</td>\n",
       "    </tr>\n",
       "    <tr>\n",
       "      <th>165413</th>\n",
       "      <td>C573097</td>\n",
       "      <td>23251</td>\n",
       "      <td>VINTAGE RED ENAMEL TRIM MUG</td>\n",
       "      <td>-18</td>\n",
       "      <td>2011-10-27 14:42:00</td>\n",
       "      <td>1.25</td>\n",
       "      <td>15038.0</td>\n",
       "      <td>United Kingdom</td>\n",
       "      <td>0</td>\n",
       "    </tr>\n",
       "    <tr>\n",
       "      <th>177723</th>\n",
       "      <td>C574065</td>\n",
       "      <td>22945</td>\n",
       "      <td>CHRISTMAS METAL TAGS ASSORTED</td>\n",
       "      <td>-24</td>\n",
       "      <td>2011-11-02 14:43:00</td>\n",
       "      <td>0.85</td>\n",
       "      <td>13271.0</td>\n",
       "      <td>United Kingdom</td>\n",
       "      <td>0</td>\n",
       "    </tr>\n",
       "    <tr>\n",
       "      <th>183052</th>\n",
       "      <td>C574524</td>\n",
       "      <td>22947</td>\n",
       "      <td>WOODEN ADVENT CALENDAR RED</td>\n",
       "      <td>-2</td>\n",
       "      <td>2011-11-04 13:53:00</td>\n",
       "      <td>7.95</td>\n",
       "      <td>17841.0</td>\n",
       "      <td>United Kingdom</td>\n",
       "      <td>0</td>\n",
       "    </tr>\n",
       "    <tr>\n",
       "      <th>259575</th>\n",
       "      <td>C579948</td>\n",
       "      <td>21098</td>\n",
       "      <td>CHRISTMAS TOILET ROLL</td>\n",
       "      <td>-3</td>\n",
       "      <td>2011-12-01 10:56:00</td>\n",
       "      <td>1.25</td>\n",
       "      <td>16376.0</td>\n",
       "      <td>United Kingdom</td>\n",
       "      <td>0</td>\n",
       "    </tr>\n",
       "    <tr>\n",
       "      <th>262933</th>\n",
       "      <td>C580263</td>\n",
       "      <td>M</td>\n",
       "      <td>Manual</td>\n",
       "      <td>-4</td>\n",
       "      <td>2011-12-02 12:43:00</td>\n",
       "      <td>9.95</td>\n",
       "      <td>12536.0</td>\n",
       "      <td>France</td>\n",
       "      <td>0</td>\n",
       "    </tr>\n",
       "    <tr>\n",
       "      <th>262934</th>\n",
       "      <td>C580263</td>\n",
       "      <td>M</td>\n",
       "      <td>Manual</td>\n",
       "      <td>-16</td>\n",
       "      <td>2011-12-02 12:43:00</td>\n",
       "      <td>0.29</td>\n",
       "      <td>12536.0</td>\n",
       "      <td>France</td>\n",
       "      <td>0</td>\n",
       "    </tr>\n",
       "    <tr>\n",
       "      <th>270155</th>\n",
       "      <td>C580708</td>\n",
       "      <td>84946</td>\n",
       "      <td>ANTIQUE SILVER T-LIGHT GLASS</td>\n",
       "      <td>-12</td>\n",
       "      <td>2011-12-05 16:33:00</td>\n",
       "      <td>1.25</td>\n",
       "      <td>14546.0</td>\n",
       "      <td>United Kingdom</td>\n",
       "      <td>0</td>\n",
       "    </tr>\n",
       "  </tbody>\n",
       "</table>\n",
       "</div>"
      ],
      "text/plain": [
       "       InvoiceNo StockCode                     Description  Quantity  \\\n",
       "76464    C566209     23355      HOT WATER BOTTLE KEEP CALM        -5   \n",
       "80564    C566467     22384         LUNCH BAG PINK POLKADOT       -14   \n",
       "103337   C568232     23007          SPACEBOY BABY GIFT SET        -3   \n",
       "165413   C573097     23251    VINTAGE RED ENAMEL TRIM MUG        -18   \n",
       "177723   C574065     22945  CHRISTMAS METAL TAGS ASSORTED        -24   \n",
       "183052   C574524     22947      WOODEN ADVENT CALENDAR RED        -2   \n",
       "259575   C579948     21098           CHRISTMAS TOILET ROLL        -3   \n",
       "262933   C580263         M                          Manual        -4   \n",
       "262934   C580263         M                          Manual       -16   \n",
       "270155   C580708     84946    ANTIQUE SILVER T-LIGHT GLASS       -12   \n",
       "\n",
       "               InvoiceDate  UnitPrice  CustomerID         Country  \\\n",
       "76464  2011-09-09 15:04:00       4.95     16362.0  United Kingdom   \n",
       "80564  2011-09-12 18:04:00       1.65     14688.0  United Kingdom   \n",
       "103337 2011-09-26 11:27:00      16.95     14808.0  United Kingdom   \n",
       "165413 2011-10-27 14:42:00       1.25     15038.0  United Kingdom   \n",
       "177723 2011-11-02 14:43:00       0.85     13271.0  United Kingdom   \n",
       "183052 2011-11-04 13:53:00       7.95     17841.0  United Kingdom   \n",
       "259575 2011-12-01 10:56:00       1.25     16376.0  United Kingdom   \n",
       "262933 2011-12-02 12:43:00       9.95     12536.0          France   \n",
       "262934 2011-12-02 12:43:00       0.29     12536.0          France   \n",
       "270155 2011-12-05 16:33:00       1.25     14546.0  United Kingdom   \n",
       "\n",
       "        QuantityCanceled  \n",
       "76464                  0  \n",
       "80564                  0  \n",
       "103337                 0  \n",
       "165413                 0  \n",
       "177723                 0  \n",
       "183052                 0  \n",
       "259575                 0  \n",
       "262933                 0  \n",
       "262934                 0  \n",
       "270155                 0  "
      ]
     },
     "execution_count": 43,
     "metadata": {},
     "output_type": "execute_result"
    }
   ],
   "source": [
    "df_cleaned.drop(entry_to_remove, axis = 0, inplace = True)\n",
    "df_cleaned.drop(doubtfull_entry, axis = 0, inplace = True)\n",
    "remaining_entries = df_cleaned[(df_cleaned['Quantity'] < 0) & (df_cleaned['StockCode'] != 'D')]\n",
    "print(\"nb of entries to delete: {}\".format(remaining_entries.shape[0]))\n",
    "remaining_entries"
   ]
  },
  {
   "cell_type": "markdown",
   "id": "5812c9a8",
   "metadata": {},
   "source": [
    "### StockCode"
   ]
  },
  {
   "cell_type": "code",
   "execution_count": 44,
   "id": "1e18129d",
   "metadata": {},
   "outputs": [
    {
     "data": {
      "text/plain": [
       "array(['M', 'POST', 'D', 'C2', 'PADS', 'DOT', 'BANK CHARGES'],\n",
       "      dtype=object)"
      ]
     },
     "execution_count": 44,
     "metadata": {},
     "output_type": "execute_result"
    }
   ],
   "source": [
    "list_special_codes = df_cleaned[df_cleaned['StockCode'].str.contains('^[a-zA-Z]+', regex=True)]['StockCode'].unique()\n",
    "list_special_codes"
   ]
  },
  {
   "cell_type": "code",
   "execution_count": 45,
   "id": "60fdd752",
   "metadata": {},
   "outputs": [
    {
     "name": "stdout",
     "output_type": "stream",
     "text": [
      "M               -> Manual                        \n",
      "POST            -> POSTAGE                       \n",
      "D               -> Discount                      \n",
      "C2              -> CARRIAGE                      \n",
      "PADS            -> PADS TO MATCH ALL CUSHIONS    \n",
      "DOT             -> DOTCOM POSTAGE                \n",
      "BANK CHARGES    -> Bank Charges                  \n"
     ]
    }
   ],
   "source": [
    "for code in list_special_codes:\n",
    "    print(\"{:<15} -> {:<30}\".format(code, df_cleaned[df_cleaned['StockCode'] == code]['Description'].unique()[0]))"
   ]
  },
  {
   "cell_type": "markdown",
   "id": "96c2119d",
   "metadata": {},
   "source": [
    "We see that there are several types of peculiar transactions, connected e.g. to port charges or bank charges."
   ]
  },
  {
   "cell_type": "markdown",
   "id": "8720ceb0",
   "metadata": {},
   "source": [
    "### Basket Price"
   ]
  },
  {
   "cell_type": "code",
   "execution_count": 46,
   "id": "bcaabe17",
   "metadata": {},
   "outputs": [
    {
     "data": {
      "text/html": [
       "<div>\n",
       "<style scoped>\n",
       "    .dataframe tbody tr th:only-of-type {\n",
       "        vertical-align: middle;\n",
       "    }\n",
       "\n",
       "    .dataframe tbody tr th {\n",
       "        vertical-align: top;\n",
       "    }\n",
       "\n",
       "    .dataframe thead th {\n",
       "        text-align: right;\n",
       "    }\n",
       "</style>\n",
       "<table border=\"1\" class=\"dataframe\">\n",
       "  <thead>\n",
       "    <tr style=\"text-align: right;\">\n",
       "      <th></th>\n",
       "      <th>InvoiceNo</th>\n",
       "      <th>StockCode</th>\n",
       "      <th>Description</th>\n",
       "      <th>Quantity</th>\n",
       "      <th>InvoiceDate</th>\n",
       "      <th>UnitPrice</th>\n",
       "      <th>CustomerID</th>\n",
       "      <th>Country</th>\n",
       "      <th>QuantityCanceled</th>\n",
       "      <th>TotalPrice</th>\n",
       "    </tr>\n",
       "  </thead>\n",
       "  <tbody>\n",
       "    <tr>\n",
       "      <th>171803</th>\n",
       "      <td>573511</td>\n",
       "      <td>22131</td>\n",
       "      <td>FOOD CONTAINER SET 3 LOVE HEART</td>\n",
       "      <td>6</td>\n",
       "      <td>2011-10-31 12:25:00</td>\n",
       "      <td>1.95</td>\n",
       "      <td>12347.0</td>\n",
       "      <td>Iceland</td>\n",
       "      <td>0</td>\n",
       "      <td>11.7</td>\n",
       "    </tr>\n",
       "    <tr>\n",
       "      <th>171761</th>\n",
       "      <td>573511</td>\n",
       "      <td>22375</td>\n",
       "      <td>AIRLINE BAG VINTAGE JET SET BROWN</td>\n",
       "      <td>8</td>\n",
       "      <td>2011-10-31 12:25:00</td>\n",
       "      <td>4.25</td>\n",
       "      <td>12347.0</td>\n",
       "      <td>Iceland</td>\n",
       "      <td>0</td>\n",
       "      <td>34.0</td>\n",
       "    </tr>\n",
       "    <tr>\n",
       "      <th>171762</th>\n",
       "      <td>573511</td>\n",
       "      <td>22371</td>\n",
       "      <td>AIRLINE BAG VINTAGE TOKYO 78</td>\n",
       "      <td>12</td>\n",
       "      <td>2011-10-31 12:25:00</td>\n",
       "      <td>3.95</td>\n",
       "      <td>12347.0</td>\n",
       "      <td>Iceland</td>\n",
       "      <td>0</td>\n",
       "      <td>47.4</td>\n",
       "    </tr>\n",
       "    <tr>\n",
       "      <th>171763</th>\n",
       "      <td>573511</td>\n",
       "      <td>22374</td>\n",
       "      <td>AIRLINE BAG VINTAGE JET SET RED</td>\n",
       "      <td>8</td>\n",
       "      <td>2011-10-31 12:25:00</td>\n",
       "      <td>4.25</td>\n",
       "      <td>12347.0</td>\n",
       "      <td>Iceland</td>\n",
       "      <td>0</td>\n",
       "      <td>34.0</td>\n",
       "    </tr>\n",
       "    <tr>\n",
       "      <th>171764</th>\n",
       "      <td>573511</td>\n",
       "      <td>22252</td>\n",
       "      <td>BIRDCAGE DECORATION TEALIGHT HOLDER</td>\n",
       "      <td>12</td>\n",
       "      <td>2011-10-31 12:25:00</td>\n",
       "      <td>1.25</td>\n",
       "      <td>12347.0</td>\n",
       "      <td>Iceland</td>\n",
       "      <td>0</td>\n",
       "      <td>15.0</td>\n",
       "    </tr>\n",
       "  </tbody>\n",
       "</table>\n",
       "</div>"
      ],
      "text/plain": [
       "       InvoiceNo StockCode                          Description  Quantity  \\\n",
       "171803    573511     22131     FOOD CONTAINER SET 3 LOVE HEART          6   \n",
       "171761    573511     22375    AIRLINE BAG VINTAGE JET SET BROWN         8   \n",
       "171762    573511     22371         AIRLINE BAG VINTAGE TOKYO 78        12   \n",
       "171763    573511     22374      AIRLINE BAG VINTAGE JET SET RED         8   \n",
       "171764    573511     22252  BIRDCAGE DECORATION TEALIGHT HOLDER        12   \n",
       "\n",
       "               InvoiceDate  UnitPrice  CustomerID  Country  QuantityCanceled  \\\n",
       "171803 2011-10-31 12:25:00       1.95     12347.0  Iceland                 0   \n",
       "171761 2011-10-31 12:25:00       4.25     12347.0  Iceland                 0   \n",
       "171762 2011-10-31 12:25:00       3.95     12347.0  Iceland                 0   \n",
       "171763 2011-10-31 12:25:00       4.25     12347.0  Iceland                 0   \n",
       "171764 2011-10-31 12:25:00       1.25     12347.0  Iceland                 0   \n",
       "\n",
       "        TotalPrice  \n",
       "171803        11.7  \n",
       "171761        34.0  \n",
       "171762        47.4  \n",
       "171763        34.0  \n",
       "171764        15.0  "
      ]
     },
     "execution_count": 46,
     "metadata": {},
     "output_type": "execute_result"
    }
   ],
   "source": [
    "# to create a new variable that indicates the total price of every purchase\n",
    "df_cleaned['TotalPrice'] = df_cleaned['UnitPrice'] * (df_cleaned['Quantity'] - df_cleaned['QuantityCanceled'])\n",
    "df_cleaned.sort_values('CustomerID')[:5]"
   ]
  },
  {
   "cell_type": "code",
   "execution_count": 48,
   "id": "331062f7",
   "metadata": {},
   "outputs": [
    {
     "data": {
      "text/html": [
       "<div>\n",
       "<style scoped>\n",
       "    .dataframe tbody tr th:only-of-type {\n",
       "        vertical-align: middle;\n",
       "    }\n",
       "\n",
       "    .dataframe tbody tr th {\n",
       "        vertical-align: top;\n",
       "    }\n",
       "\n",
       "    .dataframe thead th {\n",
       "        text-align: right;\n",
       "    }\n",
       "</style>\n",
       "<table border=\"1\" class=\"dataframe\">\n",
       "  <thead>\n",
       "    <tr style=\"text-align: right;\">\n",
       "      <th></th>\n",
       "      <th>CustomerID</th>\n",
       "      <th>InvoiceNo</th>\n",
       "      <th>Basket Price</th>\n",
       "      <th>InvoiceDate</th>\n",
       "    </tr>\n",
       "  </thead>\n",
       "  <tbody>\n",
       "    <tr>\n",
       "      <th>0</th>\n",
       "      <td>12347.0</td>\n",
       "      <td>562032</td>\n",
       "      <td>584.91</td>\n",
       "      <td>2011-08-02 08:48:00</td>\n",
       "    </tr>\n",
       "    <tr>\n",
       "      <th>1</th>\n",
       "      <td>12347.0</td>\n",
       "      <td>573511</td>\n",
       "      <td>1294.32</td>\n",
       "      <td>2011-10-31 12:25:00</td>\n",
       "    </tr>\n",
       "    <tr>\n",
       "      <th>2</th>\n",
       "      <td>12347.0</td>\n",
       "      <td>581180</td>\n",
       "      <td>224.82</td>\n",
       "      <td>2011-12-07 15:52:00</td>\n",
       "    </tr>\n",
       "    <tr>\n",
       "      <th>3</th>\n",
       "      <td>12348.0</td>\n",
       "      <td>568172</td>\n",
       "      <td>310.00</td>\n",
       "      <td>2011-09-25 13:13:00</td>\n",
       "    </tr>\n",
       "    <tr>\n",
       "      <th>4</th>\n",
       "      <td>12349.0</td>\n",
       "      <td>577609</td>\n",
       "      <td>1757.55</td>\n",
       "      <td>2011-11-21 09:51:00</td>\n",
       "    </tr>\n",
       "    <tr>\n",
       "      <th>5</th>\n",
       "      <td>12352.0</td>\n",
       "      <td>567505</td>\n",
       "      <td>366.25</td>\n",
       "      <td>2011-09-20 14:34:00</td>\n",
       "    </tr>\n",
       "  </tbody>\n",
       "</table>\n",
       "</div>"
      ],
      "text/plain": [
       "   CustomerID InvoiceNo  Basket Price         InvoiceDate\n",
       "0     12347.0    562032        584.91 2011-08-02 08:48:00\n",
       "1     12347.0    573511       1294.32 2011-10-31 12:25:00\n",
       "2     12347.0    581180        224.82 2011-12-07 15:52:00\n",
       "3     12348.0    568172        310.00 2011-09-25 13:13:00\n",
       "4     12349.0    577609       1757.55 2011-11-21 09:51:00\n",
       "5     12352.0    567505        366.25 2011-09-20 14:34:00"
      ]
     },
     "execution_count": 48,
     "metadata": {},
     "output_type": "execute_result"
    }
   ],
   "source": [
    "# to ollect all the purchases made during a single order to recover the total order price\n",
    "\n",
    "# sum of purchases / user & order\n",
    "temp = df_cleaned.groupby(by=['CustomerID', 'InvoiceNo'], as_index=False)['TotalPrice'].sum()\n",
    "basket_price = temp.rename(columns = {'TotalPrice':'Basket Price'})\n",
    "\n",
    "# date of the order\n",
    "df_cleaned['InvoiceDate_int'] = df_cleaned['InvoiceDate'].astype('int64')\n",
    "temp = df_cleaned.groupby(by=['CustomerID', 'InvoiceNo'], as_index=False)['InvoiceDate_int'].mean()\n",
    "df_cleaned.drop('InvoiceDate_int', axis = 1, inplace = True)\n",
    "basket_price.loc[:, 'InvoiceDate'] = pd.to_datetime(temp['InvoiceDate_int'])\n",
    "\n",
    "# selection of significant entries\n",
    "basket_price = basket_price[basket_price['Basket Price'] > 0]\n",
    "basket_price.sort_values('CustomerID')[:6]"
   ]
  },
  {
   "cell_type": "code",
   "execution_count": 49,
   "id": "dae25472",
   "metadata": {},
   "outputs": [
    {
     "data": {
      "image/png": "[encoded data removed]",
      "text/plain": [
       "<Figure size 792x432 with 1 Axes>"
      ]
     },
     "metadata": {},
     "output_type": "display_data"
    }
   ],
   "source": [
    "# Purchase count\n",
    "price_range = [0, 50, 100, 200, 500, 1000, 5000, 50000]\n",
    "count_price = []\n",
    "for i, price in enumerate(price_range):\n",
    "    if i == 0: continue\n",
    "    val = basket_price[(basket_price['Basket Price'] < price) &\n",
    "                       (basket_price['Basket Price'] > price_range[i-1])]['Basket Price'].count()\n",
    "    count_price.append(val)\n",
    "\n",
    "# Representation of the number of purchases / amount       \n",
    "plt.rc('font', weight='bold')\n",
    "f, ax = plt.subplots(figsize=(11, 6))\n",
    "colors = ['yellowgreen', 'gold', 'wheat', 'c', 'violet', 'royalblue','firebrick']\n",
    "labels = [ '{}<.<{}'.format(price_range[i-1], s) for i,s in enumerate(price_range) if i != 0]\n",
    "sizes  = count_price\n",
    "explode = [0.0 if sizes[i] < 100 else 0.0 for i in range(len(sizes))]\n",
    "ax.pie(sizes, explode = explode, labels=labels, colors = colors,\n",
    "       autopct = lambda x:'{:1.0f}%'.format(x) if x > 1 else '',\n",
    "       shadow = False, startangle=0)\n",
    "ax.axis('equal')\n",
    "f.text(0.5, 1.01, \"Distribution of order amounts\", ha='center', fontsize = 18);"
   ]
  },
  {
   "cell_type": "code",
   "execution_count": null,
   "id": "5c778f36",
   "metadata": {},
   "outputs": [],
   "source": []
  }
 ],
 "metadata": {
  "kernelspec": {
   "display_name": "Python 3 (ipykernel)",
   "language": "python",
   "name": "python3"
  },
  "language_info": {
   "codemirror_mode": {
    "name": "ipython",
    "version": 3
   },
   "file_extension": ".py",
   "mimetype": "text/x-python",
   "name": "python",
   "nbconvert_exporter": "python",
   "pygments_lexer": "ipython3",
   "version": "3.9.7"
  }
 },
 "nbformat": 4,
 "nbformat_minor": 5
}
